{
  "cells": [
    {
      "cell_type": "markdown",
      "metadata": {
        "id": "-fAjMk8jDvp5"
      },
      "source": [
        "# Instant-ngp \n",
        "\n",
        "This notebook aims to be a step-by-step guide to train NeRF models and rendering videos from them with nvidia's [instant-ngp](https://github.com/NVlabs/instant-ngp) software using:\n",
        " * **Colab** for the heavy lifting.\n",
        " * A low-resource **local computer** for the steps that require having a graphical user interface (GUI).\n",
        "\n",
        "It has been tested on a GTX 1050ti in the local machine and an assigned Tesla T4 in the remote one.\n",
        "\n",
        "Based on this [notebook](https://colab.research.google.com/drive/10TgQ4gyVejlHiinrmm5XOvQQmgVziK3i?usp=sharing) by [@myagues](https://github.com/NVlabs/instant-ngp/issues/6#issuecomment-1016397579), the main differences being the addition of steps 3 and 4 to ensure compatibility between the local machine and the models trained in the remote machine, of step 10 to render a video from the scene, and a more guided approach."
      ]
    },
    {
      "cell_type": "markdown",
      "metadata": {
        "id": "SxsmRf03DFYe"
      },
      "source": [
        "## 1.Connect to a GPU runtime"
      ]
    },
    {
      "cell_type": "markdown",
      "metadata": {
        "id": "NyjFWI3WDPBr"
      },
      "source": [
        "Connect your colab session to a GPU runtime and check that you have been assigned a GPU. It should have a minimum of 8GB of available memory."
      ]
    },
    {
      "cell_type": "code",
      "execution_count": null,
      "metadata": {
        "colab": {
          "base_uri": "https://localhost:8080/"
        },
        "id": "QJC-0GitoJEh",
        "outputId": "c3b33473-7307-4735-dd91-2be27813ac04"
      },
      "outputs": [
        {
          "output_type": "stream",
          "name": "stdout",
          "text": [
            "Mon Feb 20 13:45:26 2023       \n",
            "+-----------------------------------------------------------------------------+\n",
            "| NVIDIA-SMI 510.47.03    Driver Version: 510.47.03    CUDA Version: 11.6     |\n",
            "|-------------------------------+----------------------+----------------------+\n",
            "| GPU  Name        Persistence-M| Bus-Id        Disp.A | Volatile Uncorr. ECC |\n",
            "| Fan  Temp  Perf  Pwr:Usage/Cap|         Memory-Usage | GPU-Util  Compute M. |\n",
            "|                               |                      |               MIG M. |\n",
            "|===============================+======================+======================|\n",
            "|   0  Tesla T4            Off  | 00000000:00:04.0 Off |                    0 |\n",
            "| N/A   58C    P0    25W /  70W |      0MiB / 15360MiB |      0%      Default |\n",
            "|                               |                      |                  N/A |\n",
            "+-------------------------------+----------------------+----------------------+\n",
            "                                                                               \n",
            "+-----------------------------------------------------------------------------+\n",
            "| Processes:                                                                  |\n",
            "|  GPU   GI   CI        PID   Type   Process name                  GPU Memory |\n",
            "|        ID   ID                                                   Usage      |\n",
            "|=============================================================================|\n",
            "|  No running processes found                                                 |\n",
            "+-----------------------------------------------------------------------------+\n"
          ]
        }
      ],
      "source": [
        "!nvidia-smi"
      ]
    },
    {
      "cell_type": "markdown",
      "metadata": {
        "id": "Da9sDpM-DXps"
      },
      "source": [
        "## 2. Install dependencies and clone the instant-ngp repo"
      ]
    },
    {
      "cell_type": "code",
      "execution_count": null,
      "metadata": {
        "colab": {
          "base_uri": "https://localhost:8080/"
        },
        "id": "yKFsL8wSdQ8Q",
        "outputId": "ed1b7849-d5b0-4a8d-da2f-5e83b7e79d11"
      },
      "outputs": [
        {
          "output_type": "stream",
          "name": "stdout",
          "text": [
            "\u001b[33m\r0% [Working]\u001b[0m\r            \rGet:1 https://cloud.r-project.org/bin/linux/ubuntu focal-cran40/ InRelease [3,622 B]\n",
            "\u001b[33m\r0% [Waiting for headers] [Waiting for headers] [1 InRelease 3,622 B/3,622 B 100\u001b[0m\u001b[33m\r0% [Waiting for headers] [Waiting for headers] [Waiting for headers] [Waiting f\u001b[0m\r                                                                               \rIgn:2 https://developer.download.nvidia.com/compute/machine-learning/repos/ubuntu2004/x86_64  InRelease\n",
            "\u001b[33m\r                                                                               \r0% [Waiting for headers] [Waiting for headers] [Waiting for headers]\u001b[0m\r                                                                    \rGet:3 http://ppa.launchpad.net/c2d4u.team/c2d4u4.0+/ubuntu focal InRelease [18.1 kB]\n",
            "\u001b[33m\r0% [Waiting for headers] [Waiting for headers] [Waiting for headers] [3 InRelea\u001b[0m\r                                                                               \rGet:4 http://security.ubuntu.com/ubuntu focal-security InRelease [114 kB]\n",
            "\u001b[33m\r0% [Waiting for headers] [4 InRelease 14.2 kB/114 kB 12%] [Waiting for headers]\u001b[0m\r                                                                               \rHit:5 https://developer.download.nvidia.com/compute/cuda/repos/ubuntu2004/x86_64  InRelease\n",
            "Hit:6 https://developer.download.nvidia.com/compute/machine-learning/repos/ubuntu2004/x86_64  Release\n",
            "Hit:7 http://archive.ubuntu.com/ubuntu focal InRelease\n",
            "Get:8 http://archive.ubuntu.com/ubuntu focal-updates InRelease [114 kB]\n",
            "Get:9 https://cloud.r-project.org/bin/linux/ubuntu focal-cran40/ Packages [71.6 kB]\n",
            "Hit:10 http://ppa.launchpad.net/cran/libgit2/ubuntu focal InRelease\n",
            "Hit:12 http://ppa.launchpad.net/deadsnakes/ppa/ubuntu focal InRelease\n",
            "Get:13 http://archive.ubuntu.com/ubuntu focal-backports InRelease [108 kB]\n",
            "Hit:14 http://ppa.launchpad.net/graphics-drivers/ppa/ubuntu focal InRelease\n",
            "Get:15 http://security.ubuntu.com/ubuntu focal-security/main amd64 Packages [2,496 kB]\n",
            "Hit:16 http://ppa.launchpad.net/ubuntugis/ppa/ubuntu focal InRelease\n",
            "Get:17 http://archive.ubuntu.com/ubuntu focal-updates/universe amd64 Packages [1,297 kB]\n",
            "Get:18 http://ppa.launchpad.net/c2d4u.team/c2d4u4.0+/ubuntu focal/main Sources [2,386 kB]\n",
            "Get:19 http://archive.ubuntu.com/ubuntu focal-updates/main amd64 Packages [2,970 kB]\n",
            "Get:20 http://security.ubuntu.com/ubuntu focal-security/universe amd64 Packages [998 kB]\n",
            "Get:21 http://ppa.launchpad.net/c2d4u.team/c2d4u4.0+/ubuntu focal/main amd64 Packages [1,130 kB]\n",
            "Fetched 11.7 MB in 3s (4,436 kB/s)\n",
            "Reading package lists... Done\n",
            "Building dependency tree       \n",
            "Reading state information... Done\n",
            "23 packages can be upgraded. Run 'apt list --upgradable' to see them.\n",
            "Reading package lists... Done\n",
            "Building dependency tree       \n",
            "Reading state information... Done\n",
            "python3-dev is already the newest version (3.8.2-0ubuntu2).\n",
            "python3-dev set to manually installed.\n",
            "build-essential is already the newest version (12.8ubuntu1.1).\n",
            "git is already the newest version (1:2.25.1-1ubuntu3.10).\n",
            "ffmpeg is already the newest version (7:4.2.7-0ubuntu0.1).\n",
            "libopenexr-dev is already the newest version (2.3.0-6ubuntu0.5).\n",
            "libopenexr-dev set to manually installed.\n",
            "The following package was automatically installed and is no longer required:\n",
            "  libnvidia-common-510\n",
            "Use 'apt autoremove' to remove it.\n",
            "The following additional packages will be installed:\n",
            "  libamd2 libcamd2 libccolamd2 libceres1 libcholmod3 libcolamd2 libcxsparse3\n",
            "  libegl1-mesa-dev libfreeimage3 libgflags2.2 libgles-dev libgles1 libglew2.1\n",
            "  libglfw3 libglvnd-dev libgoogle-glog0v5 libjq1 libjxr0 libmetis5\n",
            "  libomp-10-dev libomp5-10 libonig5 libopengl-dev libraw19 libspqr2\n",
            "  libsuitesparseconfig5 libwayland-bin libwayland-dev libxfixes-dev\n",
            "  libxrandr-dev python-pip-whl python3-setuptools python3-wheel\n",
            "  x11proto-input-dev x11proto-randr-dev x11proto-xinerama-dev\n",
            "Suggested packages:\n",
            "  glew-utils libosmesa6 libglfw3-doc libomp-10-doc libwayland-doc\n",
            "  python-setuptools-doc\n",
            "The following NEW packages will be installed:\n",
            "  colmap jq libamd2 libcamd2 libccolamd2 libceres1 libcholmod3 libcolamd2\n",
            "  libcxsparse3 libegl1-mesa-dev libfreeimage3 libgflags2.2 libgles-dev\n",
            "  libgles1 libglew-dev libglew2.1 libglfw3 libglfw3-dev libglvnd-dev\n",
            "  libgoogle-glog0v5 libjq1 libjxr0 libmetis5 libomp-10-dev libomp-dev\n",
            "  libomp5-10 libonig5 libopengl-dev libraw19 libspqr2 libsuitesparseconfig5\n",
            "  libwayland-bin libwayland-dev libxcursor-dev libxfixes-dev libxi-dev\n",
            "  libxinerama-dev libxrandr-dev python-pip-whl python3-pip python3-setuptools\n",
            "  python3-wheel x11proto-input-dev x11proto-randr-dev x11proto-xinerama-dev\n",
            "0 upgraded, 45 newly installed, 0 to remove and 23 not upgraded.\n",
            "Need to get 8,868 kB of archives.\n",
            "After this operation, 33.6 MB of additional disk space will be used.\n",
            "Get:1 http://archive.ubuntu.com/ubuntu focal/main amd64 libsuitesparseconfig5 amd64 1:5.7.1+dfsg-2 [9,736 B]\n",
            "Get:2 http://archive.ubuntu.com/ubuntu focal/main amd64 libamd2 amd64 1:5.7.1+dfsg-2 [20.0 kB]\n",
            "Get:3 http://archive.ubuntu.com/ubuntu focal/main amd64 libcamd2 amd64 1:5.7.1+dfsg-2 [21.7 kB]\n",
            "Get:4 http://archive.ubuntu.com/ubuntu focal/main amd64 libccolamd2 amd64 1:5.7.1+dfsg-2 [23.2 kB]\n",
            "Get:5 http://archive.ubuntu.com/ubuntu focal/main amd64 libcolamd2 amd64 1:5.7.1+dfsg-2 [17.0 kB]\n",
            "Get:6 http://archive.ubuntu.com/ubuntu focal/main amd64 libmetis5 amd64 5.1.0.dfsg-5 [169 kB]\n",
            "Get:7 http://archive.ubuntu.com/ubuntu focal/main amd64 libcholmod3 amd64 1:5.7.1+dfsg-2 [308 kB]\n",
            "Get:8 http://archive.ubuntu.com/ubuntu focal/main amd64 libcxsparse3 amd64 1:5.7.1+dfsg-2 [64.2 kB]\n",
            "Get:9 http://archive.ubuntu.com/ubuntu focal/universe amd64 libgflags2.2 amd64 2.2.2-1build1 [78.0 kB]\n",
            "Get:10 http://archive.ubuntu.com/ubuntu focal/universe amd64 libgoogle-glog0v5 amd64 0.4.0-1build1 [51.5 kB]\n",
            "Get:11 http://archive.ubuntu.com/ubuntu focal/main amd64 libspqr2 amd64 1:5.7.1+dfsg-2 [64.8 kB]\n",
            "Get:12 http://archive.ubuntu.com/ubuntu focal-updates/universe amd64 libceres1 amd64 1.14.0-4ubuntu1.1 [679 kB]\n",
            "Get:13 http://archive.ubuntu.com/ubuntu focal/universe amd64 libjxr0 amd64 1.1-6build1 [158 kB]\n",
            "Get:14 http://archive.ubuntu.com/ubuntu focal-updates/main amd64 libraw19 amd64 0.19.5-1ubuntu1.1 [261 kB]\n",
            "Get:15 http://archive.ubuntu.com/ubuntu focal/universe amd64 libfreeimage3 amd64 3.18.0+ds2-1ubuntu3 [269 kB]\n",
            "Get:16 http://archive.ubuntu.com/ubuntu focal/universe amd64 libglew2.1 amd64 2.1.0-4 [155 kB]\n",
            "Get:17 http://archive.ubuntu.com/ubuntu focal/universe amd64 colmap amd64 3.6+dev2+git20191105-1build1 [2,786 kB]\n",
            "Get:18 http://archive.ubuntu.com/ubuntu focal/universe amd64 libonig5 amd64 6.9.4-1 [142 kB]\n",
            "Get:19 http://archive.ubuntu.com/ubuntu focal-updates/universe amd64 libjq1 amd64 1.6-1ubuntu0.20.04.1 [121 kB]\n",
            "Get:20 http://archive.ubuntu.com/ubuntu focal-updates/universe amd64 jq amd64 1.6-1ubuntu0.20.04.1 [50.2 kB]\n",
            "Get:21 http://archive.ubuntu.com/ubuntu focal-updates/main amd64 libgles1 amd64 1.3.2-1~ubuntu0.20.04.2 [10.3 kB]\n",
            "Get:22 http://archive.ubuntu.com/ubuntu focal-updates/main amd64 libgles-dev amd64 1.3.2-1~ubuntu0.20.04.2 [47.9 kB]\n",
            "Get:23 http://archive.ubuntu.com/ubuntu focal-updates/main amd64 libopengl-dev amd64 1.3.2-1~ubuntu0.20.04.2 [3,584 B]\n",
            "Get:24 http://archive.ubuntu.com/ubuntu focal-updates/main amd64 libglvnd-dev amd64 1.3.2-1~ubuntu0.20.04.2 [11.6 kB]\n",
            "Get:25 http://archive.ubuntu.com/ubuntu focal-updates/main amd64 libegl1-mesa-dev amd64 21.2.6-0ubuntu0.1~20.04.2 [7,760 B]\n",
            "Get:26 http://archive.ubuntu.com/ubuntu focal/universe amd64 libglew-dev amd64 2.1.0-4 [134 kB]\n",
            "Get:27 http://archive.ubuntu.com/ubuntu focal/universe amd64 libglfw3 amd64 3.3.2-1 [73.6 kB]\n",
            "Get:28 http://archive.ubuntu.com/ubuntu focal/universe amd64 libglfw3-dev amd64 3.3.2-1 [39.6 kB]\n",
            "Get:29 http://archive.ubuntu.com/ubuntu focal/universe amd64 libomp5-10 amd64 1:10.0.0-4ubuntu1 [300 kB]\n",
            "Get:30 http://archive.ubuntu.com/ubuntu focal/universe amd64 libomp-10-dev amd64 1:10.0.0-4ubuntu1 [47.7 kB]\n",
            "Get:31 http://archive.ubuntu.com/ubuntu focal/main amd64 libxfixes-dev amd64 1:5.0.3-2 [11.4 kB]\n",
            "Get:32 http://archive.ubuntu.com/ubuntu focal/main amd64 libxcursor-dev amd64 1:1.2.0-2 [26.5 kB]\n",
            "Get:33 http://archive.ubuntu.com/ubuntu focal/main amd64 x11proto-input-dev all 2019.2-1ubuntu1 [2,628 B]\n",
            "Get:34 http://archive.ubuntu.com/ubuntu focal/main amd64 libxi-dev amd64 2:1.7.10-0ubuntu1 [187 kB]\n",
            "Get:35 http://archive.ubuntu.com/ubuntu focal/main amd64 x11proto-xinerama-dev all 2019.2-1ubuntu1 [2,628 B]\n",
            "Get:36 http://archive.ubuntu.com/ubuntu focal/main amd64 libxinerama-dev amd64 2:1.1.4-2 [7,896 B]\n",
            "Get:37 http://archive.ubuntu.com/ubuntu focal/main amd64 x11proto-randr-dev all 2019.2-1ubuntu1 [2,620 B]\n",
            "Get:38 http://archive.ubuntu.com/ubuntu focal/main amd64 libxrandr-dev amd64 2:1.5.2-0ubuntu1 [25.0 kB]\n",
            "Get:39 http://archive.ubuntu.com/ubuntu focal-updates/universe amd64 python-pip-whl all 20.0.2-5ubuntu1.7 [1,805 kB]\n",
            "Get:40 http://archive.ubuntu.com/ubuntu focal-updates/main amd64 python3-setuptools all 45.2.0-1ubuntu0.1 [330 kB]\n",
            "Get:41 http://archive.ubuntu.com/ubuntu focal-updates/universe amd64 python3-wheel all 0.34.2-1ubuntu0.1 [23.9 kB]\n",
            "Get:42 http://archive.ubuntu.com/ubuntu focal-updates/universe amd64 python3-pip all 20.0.2-5ubuntu1.7 [230 kB]\n",
            "Get:43 http://archive.ubuntu.com/ubuntu focal/universe amd64 libomp-dev amd64 1:10.0-50~exp1 [2,824 B]\n",
            "Get:44 http://archive.ubuntu.com/ubuntu focal-updates/main amd64 libwayland-bin amd64 1.18.0-1ubuntu0.1 [20.2 kB]\n",
            "Get:45 http://archive.ubuntu.com/ubuntu focal-updates/main amd64 libwayland-dev amd64 1.18.0-1ubuntu0.1 [64.6 kB]\n",
            "Fetched 8,868 kB in 4s (1,975 kB/s)\n",
            "Extracting templates from packages: 100%\n",
            "Selecting previously unselected package libsuitesparseconfig5:amd64.\n",
            "(Reading database ... 128126 files and directories currently installed.)\n",
            "Preparing to unpack .../00-libsuitesparseconfig5_1%3a5.7.1+dfsg-2_amd64.deb ...\n",
            "Unpacking libsuitesparseconfig5:amd64 (1:5.7.1+dfsg-2) ...\n",
            "Selecting previously unselected package libamd2:amd64.\n",
            "Preparing to unpack .../01-libamd2_1%3a5.7.1+dfsg-2_amd64.deb ...\n",
            "Unpacking libamd2:amd64 (1:5.7.1+dfsg-2) ...\n",
            "Selecting previously unselected package libcamd2:amd64.\n",
            "Preparing to unpack .../02-libcamd2_1%3a5.7.1+dfsg-2_amd64.deb ...\n",
            "Unpacking libcamd2:amd64 (1:5.7.1+dfsg-2) ...\n",
            "Selecting previously unselected package libccolamd2:amd64.\n",
            "Preparing to unpack .../03-libccolamd2_1%3a5.7.1+dfsg-2_amd64.deb ...\n",
            "Unpacking libccolamd2:amd64 (1:5.7.1+dfsg-2) ...\n",
            "Selecting previously unselected package libcolamd2:amd64.\n",
            "Preparing to unpack .../04-libcolamd2_1%3a5.7.1+dfsg-2_amd64.deb ...\n",
            "Unpacking libcolamd2:amd64 (1:5.7.1+dfsg-2) ...\n",
            "Selecting previously unselected package libmetis5:amd64.\n",
            "Preparing to unpack .../05-libmetis5_5.1.0.dfsg-5_amd64.deb ...\n",
            "Unpacking libmetis5:amd64 (5.1.0.dfsg-5) ...\n",
            "Selecting previously unselected package libcholmod3:amd64.\n",
            "Preparing to unpack .../06-libcholmod3_1%3a5.7.1+dfsg-2_amd64.deb ...\n",
            "Unpacking libcholmod3:amd64 (1:5.7.1+dfsg-2) ...\n",
            "Selecting previously unselected package libcxsparse3:amd64.\n",
            "Preparing to unpack .../07-libcxsparse3_1%3a5.7.1+dfsg-2_amd64.deb ...\n",
            "Unpacking libcxsparse3:amd64 (1:5.7.1+dfsg-2) ...\n",
            "Selecting previously unselected package libgflags2.2.\n",
            "Preparing to unpack .../08-libgflags2.2_2.2.2-1build1_amd64.deb ...\n",
            "Unpacking libgflags2.2 (2.2.2-1build1) ...\n",
            "Selecting previously unselected package libgoogle-glog0v5.\n",
            "Preparing to unpack .../09-libgoogle-glog0v5_0.4.0-1build1_amd64.deb ...\n",
            "Unpacking libgoogle-glog0v5 (0.4.0-1build1) ...\n",
            "Selecting previously unselected package libspqr2:amd64.\n",
            "Preparing to unpack .../10-libspqr2_1%3a5.7.1+dfsg-2_amd64.deb ...\n",
            "Unpacking libspqr2:amd64 (1:5.7.1+dfsg-2) ...\n",
            "Selecting previously unselected package libceres1.\n",
            "Preparing to unpack .../11-libceres1_1.14.0-4ubuntu1.1_amd64.deb ...\n",
            "Unpacking libceres1 (1.14.0-4ubuntu1.1) ...\n",
            "Selecting previously unselected package libjxr0:amd64.\n",
            "Preparing to unpack .../12-libjxr0_1.1-6build1_amd64.deb ...\n",
            "Unpacking libjxr0:amd64 (1.1-6build1) ...\n",
            "Selecting previously unselected package libraw19:amd64.\n",
            "Preparing to unpack .../13-libraw19_0.19.5-1ubuntu1.1_amd64.deb ...\n",
            "Unpacking libraw19:amd64 (0.19.5-1ubuntu1.1) ...\n",
            "Selecting previously unselected package libfreeimage3:amd64.\n",
            "Preparing to unpack .../14-libfreeimage3_3.18.0+ds2-1ubuntu3_amd64.deb ...\n",
            "Unpacking libfreeimage3:amd64 (3.18.0+ds2-1ubuntu3) ...\n",
            "Selecting previously unselected package libglew2.1:amd64.\n",
            "Preparing to unpack .../15-libglew2.1_2.1.0-4_amd64.deb ...\n",
            "Unpacking libglew2.1:amd64 (2.1.0-4) ...\n",
            "Selecting previously unselected package colmap.\n",
            "Preparing to unpack .../16-colmap_3.6+dev2+git20191105-1build1_amd64.deb ...\n",
            "Unpacking colmap (3.6+dev2+git20191105-1build1) ...\n",
            "Selecting previously unselected package libonig5:amd64.\n",
            "Preparing to unpack .../17-libonig5_6.9.4-1_amd64.deb ...\n",
            "Unpacking libonig5:amd64 (6.9.4-1) ...\n",
            "Selecting previously unselected package libjq1:amd64.\n",
            "Preparing to unpack .../18-libjq1_1.6-1ubuntu0.20.04.1_amd64.deb ...\n",
            "Unpacking libjq1:amd64 (1.6-1ubuntu0.20.04.1) ...\n",
            "Selecting previously unselected package jq.\n",
            "Preparing to unpack .../19-jq_1.6-1ubuntu0.20.04.1_amd64.deb ...\n",
            "Unpacking jq (1.6-1ubuntu0.20.04.1) ...\n",
            "Selecting previously unselected package libgles1:amd64.\n",
            "Preparing to unpack .../20-libgles1_1.3.2-1~ubuntu0.20.04.2_amd64.deb ...\n",
            "Unpacking libgles1:amd64 (1.3.2-1~ubuntu0.20.04.2) ...\n",
            "Selecting previously unselected package libgles-dev:amd64.\n",
            "Preparing to unpack .../21-libgles-dev_1.3.2-1~ubuntu0.20.04.2_amd64.deb ...\n",
            "Unpacking libgles-dev:amd64 (1.3.2-1~ubuntu0.20.04.2) ...\n",
            "Selecting previously unselected package libopengl-dev:amd64.\n",
            "Preparing to unpack .../22-libopengl-dev_1.3.2-1~ubuntu0.20.04.2_amd64.deb ...\n",
            "Unpacking libopengl-dev:amd64 (1.3.2-1~ubuntu0.20.04.2) ...\n",
            "Selecting previously unselected package libglvnd-dev:amd64.\n",
            "Preparing to unpack .../23-libglvnd-dev_1.3.2-1~ubuntu0.20.04.2_amd64.deb ...\n",
            "Unpacking libglvnd-dev:amd64 (1.3.2-1~ubuntu0.20.04.2) ...\n",
            "Selecting previously unselected package libegl1-mesa-dev:amd64.\n",
            "Preparing to unpack .../24-libegl1-mesa-dev_21.2.6-0ubuntu0.1~20.04.2_amd64.deb ...\n",
            "Unpacking libegl1-mesa-dev:amd64 (21.2.6-0ubuntu0.1~20.04.2) ...\n",
            "Selecting previously unselected package libglew-dev:amd64.\n",
            "Preparing to unpack .../25-libglew-dev_2.1.0-4_amd64.deb ...\n",
            "Unpacking libglew-dev:amd64 (2.1.0-4) ...\n",
            "Selecting previously unselected package libglfw3:amd64.\n",
            "Preparing to unpack .../26-libglfw3_3.3.2-1_amd64.deb ...\n",
            "Unpacking libglfw3:amd64 (3.3.2-1) ...\n",
            "Selecting previously unselected package libglfw3-dev:amd64.\n",
            "Preparing to unpack .../27-libglfw3-dev_3.3.2-1_amd64.deb ...\n",
            "Unpacking libglfw3-dev:amd64 (3.3.2-1) ...\n",
            "Selecting previously unselected package libomp5-10:amd64.\n",
            "Preparing to unpack .../28-libomp5-10_1%3a10.0.0-4ubuntu1_amd64.deb ...\n",
            "Unpacking libomp5-10:amd64 (1:10.0.0-4ubuntu1) ...\n",
            "Selecting previously unselected package libomp-10-dev.\n",
            "Preparing to unpack .../29-libomp-10-dev_1%3a10.0.0-4ubuntu1_amd64.deb ...\n",
            "Unpacking libomp-10-dev (1:10.0.0-4ubuntu1) ...\n",
            "Selecting previously unselected package libxfixes-dev:amd64.\n",
            "Preparing to unpack .../30-libxfixes-dev_1%3a5.0.3-2_amd64.deb ...\n",
            "Unpacking libxfixes-dev:amd64 (1:5.0.3-2) ...\n",
            "Selecting previously unselected package libxcursor-dev:amd64.\n",
            "Preparing to unpack .../31-libxcursor-dev_1%3a1.2.0-2_amd64.deb ...\n",
            "Unpacking libxcursor-dev:amd64 (1:1.2.0-2) ...\n",
            "Selecting previously unselected package x11proto-input-dev.\n",
            "Preparing to unpack .../32-x11proto-input-dev_2019.2-1ubuntu1_all.deb ...\n",
            "Unpacking x11proto-input-dev (2019.2-1ubuntu1) ...\n",
            "Selecting previously unselected package libxi-dev:amd64.\n",
            "Preparing to unpack .../33-libxi-dev_2%3a1.7.10-0ubuntu1_amd64.deb ...\n",
            "Unpacking libxi-dev:amd64 (2:1.7.10-0ubuntu1) ...\n",
            "Selecting previously unselected package x11proto-xinerama-dev.\n",
            "Preparing to unpack .../34-x11proto-xinerama-dev_2019.2-1ubuntu1_all.deb ...\n",
            "Unpacking x11proto-xinerama-dev (2019.2-1ubuntu1) ...\n",
            "Selecting previously unselected package libxinerama-dev:amd64.\n",
            "Preparing to unpack .../35-libxinerama-dev_2%3a1.1.4-2_amd64.deb ...\n",
            "Unpacking libxinerama-dev:amd64 (2:1.1.4-2) ...\n",
            "Selecting previously unselected package x11proto-randr-dev.\n",
            "Preparing to unpack .../36-x11proto-randr-dev_2019.2-1ubuntu1_all.deb ...\n",
            "Unpacking x11proto-randr-dev (2019.2-1ubuntu1) ...\n",
            "Selecting previously unselected package libxrandr-dev:amd64.\n",
            "Preparing to unpack .../37-libxrandr-dev_2%3a1.5.2-0ubuntu1_amd64.deb ...\n",
            "Unpacking libxrandr-dev:amd64 (2:1.5.2-0ubuntu1) ...\n",
            "Selecting previously unselected package python-pip-whl.\n",
            "Preparing to unpack .../38-python-pip-whl_20.0.2-5ubuntu1.7_all.deb ...\n",
            "Unpacking python-pip-whl (20.0.2-5ubuntu1.7) ...\n",
            "Selecting previously unselected package python3-setuptools.\n",
            "Preparing to unpack .../39-python3-setuptools_45.2.0-1ubuntu0.1_all.deb ...\n",
            "Unpacking python3-setuptools (45.2.0-1ubuntu0.1) ...\n",
            "Selecting previously unselected package python3-wheel.\n",
            "Preparing to unpack .../40-python3-wheel_0.34.2-1ubuntu0.1_all.deb ...\n",
            "Unpacking python3-wheel (0.34.2-1ubuntu0.1) ...\n",
            "Selecting previously unselected package python3-pip.\n",
            "Preparing to unpack .../41-python3-pip_20.0.2-5ubuntu1.7_all.deb ...\n",
            "Unpacking python3-pip (20.0.2-5ubuntu1.7) ...\n",
            "Selecting previously unselected package libomp-dev.\n",
            "Preparing to unpack .../42-libomp-dev_1%3a10.0-50~exp1_amd64.deb ...\n",
            "Unpacking libomp-dev (1:10.0-50~exp1) ...\n",
            "Selecting previously unselected package libwayland-bin.\n",
            "Preparing to unpack .../43-libwayland-bin_1.18.0-1ubuntu0.1_amd64.deb ...\n",
            "Unpacking libwayland-bin (1.18.0-1ubuntu0.1) ...\n",
            "Selecting previously unselected package libwayland-dev:amd64.\n",
            "Preparing to unpack .../44-libwayland-dev_1.18.0-1ubuntu0.1_amd64.deb ...\n",
            "Unpacking libwayland-dev:amd64 (1.18.0-1ubuntu0.1) ...\n",
            "Setting up libglfw3:amd64 (3.3.2-1) ...\n",
            "Setting up python3-setuptools (45.2.0-1ubuntu0.1) ...\n",
            "Setting up libglfw3-dev:amd64 (3.3.2-1) ...\n",
            "Setting up x11proto-randr-dev (2019.2-1ubuntu1) ...\n",
            "Setting up libjxr0:amd64 (1.1-6build1) ...\n",
            "Setting up libraw19:amd64 (0.19.5-1ubuntu1.1) ...\n",
            "Setting up libmetis5:amd64 (5.1.0.dfsg-5) ...\n",
            "Setting up x11proto-xinerama-dev (2019.2-1ubuntu1) ...\n",
            "Setting up python3-wheel (0.34.2-1ubuntu0.1) ...\n",
            "Setting up libxfixes-dev:amd64 (1:5.0.3-2) ...\n",
            "Setting up libwayland-bin (1.18.0-1ubuntu0.1) ...\n",
            "Setting up libxrandr-dev:amd64 (2:1.5.2-0ubuntu1) ...\n",
            "Setting up libgles1:amd64 (1.3.2-1~ubuntu0.20.04.2) ...\n",
            "Setting up x11proto-input-dev (2019.2-1ubuntu1) ...\n",
            "Setting up libxinerama-dev:amd64 (2:1.1.4-2) ...\n",
            "Setting up libglew2.1:amd64 (2.1.0-4) ...\n",
            "Setting up libomp5-10:amd64 (1:10.0.0-4ubuntu1) ...\n",
            "Setting up python-pip-whl (20.0.2-5ubuntu1.7) ...\n",
            "Setting up libcxsparse3:amd64 (1:5.7.1+dfsg-2) ...\n",
            "Setting up libopengl-dev:amd64 (1.3.2-1~ubuntu0.20.04.2) ...\n",
            "Setting up libgles-dev:amd64 (1.3.2-1~ubuntu0.20.04.2) ...\n",
            "Setting up libxi-dev:amd64 (2:1.7.10-0ubuntu1) ...\n",
            "Setting up libsuitesparseconfig5:amd64 (1:5.7.1+dfsg-2) ...\n",
            "Setting up libonig5:amd64 (6.9.4-1) ...\n",
            "Setting up libgflags2.2 (2.2.2-1build1) ...\n",
            "Setting up libamd2:amd64 (1:5.7.1+dfsg-2) ...\n",
            "Setting up libfreeimage3:amd64 (3.18.0+ds2-1ubuntu3) ...\n",
            "Setting up libcolamd2:amd64 (1:5.7.1+dfsg-2) ...\n",
            "Setting up libomp-10-dev (1:10.0.0-4ubuntu1) ...\n",
            "Setting up libjq1:amd64 (1.6-1ubuntu0.20.04.1) ...\n",
            "Setting up libxcursor-dev:amd64 (1:1.2.0-2) ...\n",
            "Setting up libglvnd-dev:amd64 (1.3.2-1~ubuntu0.20.04.2) ...\n",
            "Setting up libwayland-dev:amd64 (1.18.0-1ubuntu0.1) ...\n",
            "Setting up libcamd2:amd64 (1:5.7.1+dfsg-2) ...\n",
            "Setting up libglew-dev:amd64 (2.1.0-4) ...\n",
            "Setting up python3-pip (20.0.2-5ubuntu1.7) ...\n",
            "Setting up libccolamd2:amd64 (1:5.7.1+dfsg-2) ...\n",
            "Setting up jq (1.6-1ubuntu0.20.04.1) ...\n",
            "Setting up libgoogle-glog0v5 (0.4.0-1build1) ...\n",
            "Setting up libcholmod3:amd64 (1:5.7.1+dfsg-2) ...\n",
            "Setting up libomp-dev (1:10.0-50~exp1) ...\n",
            "Setting up libegl1-mesa-dev:amd64 (21.2.6-0ubuntu0.1~20.04.2) ...\n",
            "Setting up libspqr2:amd64 (1:5.7.1+dfsg-2) ...\n",
            "Setting up libceres1 (1.14.0-4ubuntu1.1) ...\n",
            "Setting up colmap (3.6+dev2+git20191105-1build1) ...\n",
            "Processing triggers for libc-bin (2.31-0ubuntu9.9) ...\n",
            "Processing triggers for man-db (2.9.1-1) ...\n",
            "Processing triggers for mime-support (3.64ubuntu1) ...\n",
            "Looking in indexes: https://pypi.org/simple, https://us-python.pkg.dev/colab-wheels/public/simple/\n",
            "Requirement already satisfied: cmake in /usr/local/lib/python3.8/dist-packages (3.22.6)\n",
            "Collecting cmake\n",
            "  Downloading cmake-3.25.2-py2.py3-none-manylinux_2_17_x86_64.manylinux2014_x86_64.whl (23.7 MB)\n",
            "\u001b[2K     \u001b[90m━━━━━━━━━━━━━━━━━━━━━━━━━━━━━━━━━━━━━━━━\u001b[0m \u001b[32m23.7/23.7 MB\u001b[0m \u001b[31m64.5 MB/s\u001b[0m eta \u001b[36m0:00:00\u001b[0m\n",
            "\u001b[?25hInstalling collected packages: cmake\n",
            "  Attempting uninstall: cmake\n",
            "    Found existing installation: cmake 3.22.6\n",
            "    Uninstalling cmake-3.22.6:\n",
            "      Successfully uninstalled cmake-3.22.6\n",
            "Successfully installed cmake-3.25.2\n"
          ]
        }
      ],
      "source": [
        "!apt update && apt install build-essential git python3-dev python3-pip libopenexr-dev libxi-dev libglfw3-dev libglew-dev libomp-dev libxinerama-dev libxcursor-dev colmap ffmpeg jq\n",
        "!pip install --upgrade cmake"
      ]
    },
    {
      "cell_type": "code",
      "execution_count": null,
      "metadata": {
        "colab": {
          "base_uri": "https://localhost:8080/"
        },
        "id": "ijgdl-TUcxnd",
        "outputId": "29718785-87ad-4f61-be2d-86b1be916e9e"
      },
      "outputs": [
        {
          "output_type": "stream",
          "name": "stdout",
          "text": [
            "Cloning into 'instant-ngp'...\n",
            "remote: Enumerating objects: 3877, done.\u001b[K\n",
            "remote: Counting objects: 100% (50/50), done.\u001b[K\n",
            "remote: Compressing objects: 100% (28/28), done.\u001b[K\n",
            "remote: Total 3877 (delta 27), reused 28 (delta 22), pack-reused 3827\u001b[K\n",
            "Receiving objects: 100% (3877/3877), 186.72 MiB | 41.45 MiB/s, done.\n",
            "Resolving deltas: 100% (2459/2459), done.\n",
            "Submodule 'dependencies/OpenXR-SDK' (https://github.com/KhronosGroup/OpenXR-SDK.git) registered for path 'dependencies/OpenXR-SDK'\n",
            "Submodule 'dependencies/args' (https://github.com/Taywee/args) registered for path 'dependencies/args'\n",
            "Submodule 'dependencies/dlss' (https://github.com/NVIDIA/DLSS) registered for path 'dependencies/dlss'\n",
            "Submodule 'dependencies/eigen' (https://github.com/Tom94/eigen) registered for path 'dependencies/eigen'\n",
            "Submodule 'dependencies/glfw' (https://github.com/Tom94/glfw) registered for path 'dependencies/glfw'\n",
            "Submodule 'dependencies/imgui' (https://github.com/ocornut/imgui.git) registered for path 'dependencies/imgui'\n",
            "Submodule 'dependencies/pybind11' (https://github.com/Tom94/pybind11) registered for path 'dependencies/pybind11'\n",
            "Submodule 'dependencies/tiny-cuda-nn' (https://github.com/NVlabs/tiny-cuda-nn) registered for path 'dependencies/tiny-cuda-nn'\n",
            "Submodule 'dependencies/tinylogger' (https://github.com/Tom94/tinylogger) registered for path 'dependencies/tinylogger'\n",
            "Submodule 'dependencies/zlib' (https://github.com/Tom94/zlib) registered for path 'dependencies/zlib'\n",
            "Submodule 'dependencies/zstr' (https://github.com/Tom94/zstr) registered for path 'dependencies/zstr'\n",
            "Cloning into '/content/instant-ngp/dependencies/OpenXR-SDK'...\n",
            "remote: Enumerating objects: 2846, done.        \n",
            "remote: Counting objects: 100% (173/173), done.        \n",
            "remote: Compressing objects: 100% (95/95), done.        \n",
            "remote: Total 2846 (delta 74), reused 149 (delta 66), pack-reused 2673        \n",
            "Receiving objects: 100% (2846/2846), 5.66 MiB | 23.20 MiB/s, done.\n",
            "Resolving deltas: 100% (1708/1708), done.\n",
            "Cloning into '/content/instant-ngp/dependencies/args'...\n",
            "remote: Enumerating objects: 4354, done.        \n",
            "remote: Counting objects: 100% (441/441), done.        \n",
            "remote: Compressing objects: 100% (207/207), done.        \n",
            "remote: Total 4354 (delta 260), reused 386 (delta 228), pack-reused 3913        \n",
            "Receiving objects: 100% (4354/4354), 2.75 MiB | 9.15 MiB/s, done.\n",
            "Resolving deltas: 100% (3590/3590), done.\n",
            "Cloning into '/content/instant-ngp/dependencies/dlss'...\n",
            "remote: Enumerating objects: 247, done.        \n",
            "remote: Counting objects: 100% (19/19), done.        \n",
            "remote: Compressing objects: 100% (9/9), done.        \n",
            "remote: Total 247 (delta 16), reused 10 (delta 10), pack-reused 228        \n",
            "Receiving objects: 100% (247/247), 131.03 MiB | 27.61 MiB/s, done.\n",
            "Resolving deltas: 100% (143/143), done.\n",
            "Cloning into '/content/instant-ngp/dependencies/eigen'...\n",
            "remote: Enumerating objects: 103719, done.        \n",
            "remote: Counting objects: 100% (764/764), done.        \n",
            "remote: Compressing objects: 100% (136/136), done.        \n",
            "remote: Total 103719 (delta 649), reused 687 (delta 628), pack-reused 102955        \n",
            "Receiving objects: 100% (103719/103719), 95.88 MiB | 27.38 MiB/s, done.\n",
            "Resolving deltas: 100% (85354/85354), done.\n",
            "Cloning into '/content/instant-ngp/dependencies/glfw'...\n",
            "remote: Enumerating objects: 26058, done.        \n",
            "remote: Total 26058 (delta 0), reused 0 (delta 0), pack-reused 26058        \n",
            "Receiving objects: 100% (26058/26058), 13.10 MiB | 24.66 MiB/s, done.\n",
            "Resolving deltas: 100% (18364/18364), done.\n",
            "Cloning into '/content/instant-ngp/dependencies/imgui'...\n",
            "remote: Enumerating objects: 47459, done.        \n",
            "remote: Counting objects: 100% (1/1), done.        \n",
            "remote: Total 47459 (delta 0), reused 0 (delta 0), pack-reused 47458        \n",
            "Receiving objects: 100% (47459/47459), 91.71 MiB | 30.02 MiB/s, done.\n",
            "Resolving deltas: 100% (35912/35912), done.\n",
            "Cloning into '/content/instant-ngp/dependencies/pybind11'...\n",
            "remote: Enumerating objects: 19885, done.        \n",
            "remote: Counting objects: 100% (1/1), done.        \n",
            "remote: Total 19885 (delta 0), reused 0 (delta 0), pack-reused 19884        \n",
            "Receiving objects: 100% (19885/19885), 8.52 MiB | 24.11 MiB/s, done.\n",
            "Resolving deltas: 100% (13732/13732), done.\n",
            "Cloning into '/content/instant-ngp/dependencies/tiny-cuda-nn'...\n",
            "remote: Enumerating objects: 3739, done.        \n",
            "remote: Counting objects: 100% (285/285), done.        \n",
            "remote: Compressing objects: 100% (131/131), done.        \n",
            "remote: Total 3739 (delta 150), reused 215 (delta 127), pack-reused 3454        \n",
            "Receiving objects: 100% (3739/3739), 19.65 MiB | 39.93 MiB/s, done.\n",
            "Resolving deltas: 100% (2342/2342), done.\n",
            "Cloning into '/content/instant-ngp/dependencies/tinylogger'...\n",
            "remote: Enumerating objects: 158, done.        \n",
            "remote: Counting objects: 100% (7/7), done.        \n",
            "remote: Compressing objects: 100% (5/5), done.        \n",
            "remote: Total 158 (delta 1), reused 4 (delta 1), pack-reused 151        \n",
            "Receiving objects: 100% (158/158), 29.40 KiB | 2.45 MiB/s, done.\n",
            "Resolving deltas: 100% (73/73), done.\n",
            "Cloning into '/content/instant-ngp/dependencies/zlib'...\n",
            "remote: Enumerating objects: 4940, done.        \n",
            "remote: Total 4940 (delta 0), reused 0 (delta 0), pack-reused 4940        \n",
            "Receiving objects: 100% (4940/4940), 2.64 MiB | 17.42 MiB/s, done.\n",
            "Resolving deltas: 100% (3463/3463), done.\n",
            "Cloning into '/content/instant-ngp/dependencies/zstr'...\n",
            "remote: Enumerating objects: 473, done.        \n",
            "remote: Counting objects: 100% (177/177), done.        \n",
            "remote: Compressing objects: 100% (57/57), done.        \n",
            "remote: Total 473 (delta 136), reused 125 (delta 120), pack-reused 296        \n",
            "Receiving objects: 100% (473/473), 92.15 KiB | 3.84 MiB/s, done.\n",
            "Resolving deltas: 100% (230/230), done.\n",
            "Submodule path 'dependencies/OpenXR-SDK': checked out 'e2da9ce83a4388c9622da328bf48548471261290'\n",
            "Submodule path 'dependencies/args': checked out 'a48e1f880813b367d2354963a58dedbf2b708584'\n",
            "Submodule path 'dependencies/dlss': checked out 'b3559040f968d26b2edbe37e8e3ceda4b8d1275a'\n",
            "Submodule 'NVIDIAImageScaling' (https://github.com/NVIDIAGameWorks/NVIDIAImageScaling) registered for path 'dependencies/dlss/NVIDIAImageScaling'\n",
            "Cloning into '/content/instant-ngp/dependencies/dlss/NVIDIAImageScaling'...\n",
            "remote: Enumerating objects: 744, done.        \n",
            "remote: Counting objects: 100% (6/6), done.        \n",
            "remote: Compressing objects: 100% (4/4), done.        \n",
            "remote: Total 744 (delta 2), reused 2 (delta 2), pack-reused 738        \n",
            "Receiving objects: 100% (744/744), 37.67 MiB | 29.74 MiB/s, done.\n",
            "Resolving deltas: 100% (245/245), done.\n",
            "Submodule path 'dependencies/dlss/NVIDIAImageScaling': checked out '4d3f6f1b421dda208b937f2ac78657c6753efccd'\n",
            "Submodule path 'dependencies/eigen': checked out '3a8eda017526d00b95296338b0a99010d41c8b05'\n",
            "Submodule path 'dependencies/glfw': checked out '71eb7036b47e2733c2f7b4c0010e2ce62557009d'\n",
            "Submodule path 'dependencies/imgui': checked out 'fa2b318dd6190852a6fe7ebc952b6551e93899e0'\n",
            "Submodule path 'dependencies/pybind11': checked out '7a5068336979377fbf4aa66bbaa483c4cb1c76a7'\n",
            "Submodule path 'dependencies/tiny-cuda-nn': checked out 'b242f6e4ed6a09f39adc7fa4f98ac305ed987fde'\n",
            "Submodule 'dependencies/cutlass' (https://github.com/NVIDIA/cutlass) registered for path 'dependencies/tiny-cuda-nn/dependencies/cutlass'\n",
            "Submodule 'dependencies/fmt' (https://github.com/fmtlib/fmt) registered for path 'dependencies/tiny-cuda-nn/dependencies/fmt'\n",
            "Cloning into '/content/instant-ngp/dependencies/tiny-cuda-nn/dependencies/cutlass'...\n",
            "remote: Enumerating objects: 19455, done.        \n",
            "remote: Counting objects: 100% (2103/2103), done.        \n",
            "remote: Compressing objects: 100% (798/798), done.        \n",
            "remote: Total 19455 (delta 1324), reused 1997 (delta 1274), pack-reused 17352        \n",
            "Receiving objects: 100% (19455/19455), 30.45 MiB | 23.13 MiB/s, done.\n",
            "Resolving deltas: 100% (13996/13996), done.\n",
            "Cloning into '/content/instant-ngp/dependencies/tiny-cuda-nn/dependencies/fmt'...\n",
            "remote: Enumerating objects: 31563, done.        \n",
            "remote: Counting objects: 100% (83/83), done.        \n",
            "remote: Compressing objects: 100% (45/45), done.        \n",
            "remote: Total 31563 (delta 39), reused 65 (delta 28), pack-reused 31480        \n",
            "Receiving objects: 100% (31563/31563), 13.78 MiB | 19.55 MiB/s, done.\n",
            "Resolving deltas: 100% (21363/21363), done.\n",
            "Submodule path 'dependencies/tiny-cuda-nn/dependencies/cutlass': checked out '1eb6355182a5124639ce9d3ff165732a94ed9a70'\n",
            "Submodule path 'dependencies/tiny-cuda-nn/dependencies/fmt': checked out 'b0c8263cb26ea178d3a5df1b984e1a61ef578950'\n",
            "Submodule path 'dependencies/tinylogger': checked out 'aea07e21a3c0f0590513dd23f2ea7b2271312dfc'\n",
            "Submodule path 'dependencies/zlib': checked out 'fafd714d8b3ce85a6decf566e3b5b611352eadea'\n",
            "Submodule path 'dependencies/zstr': checked out '007f97607865934fb52e08248f152712e428688a'\n",
            "/content/instant-ngp\n"
          ]
        }
      ],
      "source": [
        "!git clone --recursive https://github.com/nvlabs/instant-ngp\n",
        "%cd instant-ngp"
      ]
    },
    {
      "cell_type": "markdown",
      "metadata": {
        "id": "SF4CRM2-rqn1"
      },
      "source": [
        "## 3. Set compute capability\n",
        "Find the compute capability of the GPU in your **local** machine in the following link:\n",
        "https://developer.nvidia.com/cuda-gpus\n",
        "\n",
        "You need this to be able to open your trained models in `testbed` inside your local machine later on, so you can explore them or trace a camera path in order to generate a video from your scene."
      ]
    },
    {
      "cell_type": "code",
      "execution_count": null,
      "metadata": {
        "colab": {
          "base_uri": "https://localhost:8080/"
        },
        "id": "Yf9H-wO0o1Ax",
        "outputId": "094399cd-5a61-46f1-c9cd-2e30a4625a95"
      },
      "outputs": [
        {
          "output_type": "stream",
          "name": "stdout",
          "text": [
            "env: TCNN_CUDA_ARCHITECTURES=61\n"
          ]
        }
      ],
      "source": [
        "compute_capability = \"61\" #@param [50, 52, 60, 61, 70, 72, 75, 80, 86, 87]\n",
        "%env TCNN_CUDA_ARCHITECTURES=$compute_capability\n"
      ]
    },
    {
      "cell_type": "markdown",
      "metadata": {
        "id": "X6PLafxjtoc1"
      },
      "source": [
        "## 4. Set the right network configuration\n",
        "For compatibility between the model trained here and the local machine, a network with FP32 or FP16 is chosen.\n",
        "\n",
        "https://docs.nvidia.com/deeplearning/tensorrt/support-matrix/index.html#hardware-precision-matrix "
      ]
    },
    {
      "cell_type": "code",
      "execution_count": null,
      "metadata": {
        "colab": {
          "base_uri": "https://localhost:8080/"
        },
        "id": "KFZAbFtUqQkc",
        "outputId": "da939b9c-7e93-4e3e-b6c8-c9c6c9a708ac"
      },
      "outputs": [
        {
          "output_type": "stream",
          "name": "stdout",
          "text": [
            "Using CutlassMLP\n",
            "env: NN_CONFIG_PATH=./configs/nerf/base.json\n"
          ]
        }
      ],
      "source": [
        "network_type = \"FullyFusedMLP\" if int(compute_capability) >= 70 else \"CutlassMLP\"\n",
        "print(f\"Using {network_type}\")\n",
        "%env NN_CONFIG_PATH = ./configs/nerf/base.json\n",
        "!jq '.network.otype = \"CutlassMLP\" | .rgb_network.otype = \"CutlassMLP\"' $NN_CONFIG_PATH | sponge $NN_CONFIG_PATH"
      ]
    },
    {
      "cell_type": "markdown",
      "metadata": {
        "id": "P9XhY2souWum"
      },
      "source": [
        "## 5. Build the project and install python requirements"
      ]
    },
    {
      "cell_type": "code",
      "execution_count": null,
      "metadata": {
        "colab": {
          "base_uri": "https://localhost:8080/"
        },
        "id": "B7E55zXYc1gD",
        "outputId": "63e1770f-5c65-4b00-8bba-bfb7db1808cd"
      },
      "outputs": [
        {
          "output_type": "stream",
          "name": "stdout",
          "text": [
            "-- The C compiler identification is GNU 9.4.0\n",
            "-- The CXX compiler identification is GNU 9.4.0\n",
            "-- The CUDA compiler identification is NVIDIA 11.6.124\n",
            "-- Detecting C compiler ABI info\n",
            "-- Detecting C compiler ABI info - done\n",
            "-- Check for working C compiler: /usr/bin/cc - skipped\n",
            "-- Detecting C compile features\n",
            "-- Detecting C compile features - done\n",
            "-- Detecting CXX compiler ABI info\n",
            "-- Detecting CXX compiler ABI info - done\n",
            "-- Check for working CXX compiler: /usr/bin/c++ - skipped\n",
            "-- Detecting CXX compile features\n",
            "-- Detecting CXX compile features - done\n",
            "-- Detecting CUDA compiler ABI info\n",
            "-- Detecting CUDA compiler ABI info - done\n",
            "-- Check for working CUDA compiler: /usr/local/cuda/bin/nvcc - skipped\n",
            "-- Detecting CUDA compile features\n",
            "-- Detecting CUDA compile features - done\n",
            "-- No release type specified. Setting to 'Release'.\n",
            "-- Obtained CUDA architectures from environment variable TCNN_CUDA_ARCHITECTURES=61\n",
            "-- Targeting CUDA architectures: 61\n",
            "\u001b[33mCMake Warning at dependencies/tiny-cuda-nn/CMakeLists.txt:204 (message):\n",
            "  Fully fused MLPs do not support GPU architectures of 70 or less.  Falling\n",
            "  back to CUTLASS MLPs.  Remove GPU architectures 70 and lower to allow\n",
            "  maximum performance\n",
            "\n",
            "\u001b[0m\n",
            "-- Module support is disabled.\n",
            "-- Version: 9.1.1\n",
            "-- Build type: Release\n",
            "-- Found OpenMP_C: -fopenmp (found version \"4.5\") \n",
            "-- Found OpenMP_CXX: -fopenmp (found version \"4.5\") \n",
            "-- Found OpenMP: TRUE (found version \"4.5\")  \n",
            "-- Found Python: /usr/local/bin/python (found suitable version \"3.8.10\", minimum required is \"3.7\") found components: Interpreter Development Development.Module Development.Embed \n",
            "-- pybind11 v2.10.1 \n",
            "-- Performing Test HAS_FLTO\n",
            "-- Performing Test HAS_FLTO - Success\n",
            "-- Found ZLIB: /usr/lib/x86_64-linux-gnu/libz.so (found suitable version \"1.2.11\", minimum required is \"1.2.3\") \n",
            "-- zstr - found ZLIB (version: 1.2.11)\n",
            "-- zstr - added INTERFACE target 'zstr::zstr'\n",
            "          includes : /content/instant-ngp/dependencies/zstr/src;/usr/include\n",
            "          libraries: ZLIB::ZLIB\n",
            "          features : cxx_std_11\n",
            "-- Configuring done\n",
            "-- Generating done\n",
            "-- Build files have been written to: /content/instant-ngp/build\n"
          ]
        }
      ],
      "source": [
        "!cmake . -B build -DNGP_BUILD_WITH_GUI=OFF"
      ]
    },
    {
      "cell_type": "code",
      "execution_count": null,
      "metadata": {
        "colab": {
          "base_uri": "https://localhost:8080/"
        },
        "id": "cpuhlQmJcDPJ",
        "outputId": "ddc0f9c0-49ef-4672-d85a-6a25559ae8ae"
      },
      "outputs": [
        {
          "output_type": "stream",
          "name": "stdout",
          "text": [
            "[  5%] \u001b[32mBuilding CUDA object CMakeFiles/optix_program.dir/src/optix/pathescape.ptx\u001b[0m\n",
            "[  5%] \u001b[32mBuilding CXX object dependencies/tiny-cuda-nn/dependencies/fmt/CMakeFiles/fmt.dir/src/format.cc.o\u001b[0m\n",
            "[  7%] \u001b[32mBuilding CXX object dependencies/tiny-cuda-nn/dependencies/fmt/CMakeFiles/fmt.dir/src/os.cc.o\u001b[0m\n",
            "[ 10%] \u001b[32m\u001b[1mLinking CXX static library libfmt.a\u001b[0m\n",
            "[ 10%] Built target fmt\n",
            "[ 12%] \u001b[32mBuilding CUDA object CMakeFiles/optix_program.dir/src/optix/raystab.ptx\u001b[0m\n",
            "[ 15%] \u001b[32mBuilding CUDA object CMakeFiles/optix_program.dir/src/optix/raytrace.ptx\u001b[0m\n",
            "[ 17%] \u001b[32mBuilding CUDA object dependencies/tiny-cuda-nn/CMakeFiles/tiny-cuda-nn.dir/src/common.cu.o\u001b[0m\n",
            "[ 17%] Built target optix_program\n",
            "[ 20%] \u001b[32mBuilding CUDA object dependencies/tiny-cuda-nn/CMakeFiles/tiny-cuda-nn.dir/src/common_device.cu.o\u001b[0m\n",
            "[ 23%] \u001b[32mBuilding CUDA object dependencies/tiny-cuda-nn/CMakeFiles/tiny-cuda-nn.dir/src/cpp_api.cu.o\u001b[0m\n",
            "[ 25%] \u001b[32mBuilding CUDA object dependencies/tiny-cuda-nn/CMakeFiles/tiny-cuda-nn.dir/src/cutlass_mlp.cu.o\u001b[0m\n",
            "[ 28%] \u001b[32mBuilding CUDA object dependencies/tiny-cuda-nn/CMakeFiles/tiny-cuda-nn.dir/src/encoding.cu.o\u001b[0m\n",
            "[ 30%] \u001b[32mBuilding CUDA object dependencies/tiny-cuda-nn/CMakeFiles/tiny-cuda-nn.dir/src/loss.cu.o\u001b[0m\n",
            "[ 33%] \u001b[32mBuilding CUDA object dependencies/tiny-cuda-nn/CMakeFiles/tiny-cuda-nn.dir/src/network.cu.o\u001b[0m\n",
            "[ 35%] \u001b[32mBuilding CUDA object dependencies/tiny-cuda-nn/CMakeFiles/tiny-cuda-nn.dir/src/object.cu.o\u001b[0m\n",
            "[ 38%] \u001b[32mBuilding CUDA object dependencies/tiny-cuda-nn/CMakeFiles/tiny-cuda-nn.dir/src/optimizer.cu.o\u001b[0m\n",
            "[ 41%] \u001b[32mBuilding CUDA object dependencies/tiny-cuda-nn/CMakeFiles/tiny-cuda-nn.dir/src/reduce_sum.cu.o\u001b[0m\n",
            "[ 43%] \u001b[32m\u001b[1mLinking CXX static library libtiny-cuda-nn.a\u001b[0m\n",
            "[ 43%] Built target tiny-cuda-nn\n",
            "[ 46%] \u001b[34m\u001b[1mConverting PTX files to a C header\u001b[0m\n",
            "[ 48%] \u001b[32mBuilding CUDA object CMakeFiles/ngp.dir/src/camera_path.cu.o\u001b[0m\n",
            "[ 51%] \u001b[32mBuilding CUDA object CMakeFiles/ngp.dir/src/common.cu.o\u001b[0m\n",
            "[ 53%] \u001b[32mBuilding CUDA object CMakeFiles/ngp.dir/src/common_device.cu.o\u001b[0m\n",
            "[ 56%] \u001b[32mBuilding CUDA object CMakeFiles/ngp.dir/src/marching_cubes.cu.o\u001b[0m\n",
            "\u001b[01;35m\u001b[0m\u001b[01;35mWarning\u001b[0m #20014-D: calling a __host__ function from a __host__ __device__ function is not allowed\n",
            "          detected during:\n",
            "            instantiation of \u001b[01m\"void Eigen::internal::triangular_solver_selector<Lhs, Rhs, Side, Mode, 0, -1>::run(const Lhs &, Rhs &) [with Lhs=Eigen::Ref<Eigen::Matrix<float, -1, -1, 0, -1, -1>, 0, Eigen::OuterStride<-1>>, Rhs=Eigen::Ref<Eigen::Matrix<float, -1, -1, 0, -1, -1>, 0, Eigen::OuterStride<-1>>, Side=1, Mode=5]\"\u001b[0m \u001b[32m\n",
            "/content/instant-ngp/dependencies/eigen/Eigen/src/Core/SolveTriangular.h(183): here\u001b[0m\n",
            "            instantiation of \u001b[01m\"void Eigen::TriangularViewImpl<MatrixType_, Mode_, Eigen::Dense>::solveInPlace<Side,OtherDerived>(const Eigen::MatrixBase<OtherDerived> &) const [with MatrixType_=Eigen::Ref<Eigen::Matrix<float, -1, -1, 0, -1, -1>, 0, Eigen::OuterStride<-1>>, Mode_=5U, Side=1, OtherDerived=Eigen::Ref<Eigen::Matrix<float, -1, -1, 0, -1, -1>, 0, Eigen::OuterStride<-1>>]\"\u001b[0m \u001b[32m\n",
            "/content/instant-ngp/dependencies/eigen/Eigen/src/Core/TriangularMatrix.h(525): here\u001b[0m\n",
            "            instantiation of \u001b[01m\"void Eigen::TriangularViewImpl<MatrixType_, Mode_, Eigen::Dense>::solveInPlace(const Eigen::MatrixBase<OtherDerived> &) const [with MatrixType_=Eigen::Ref<Eigen::Matrix<float, -1, -1, 0, -1, -1>, 0, Eigen::OuterStride<-1>>, Mode_=5U, OtherDerived=Eigen::Ref<Eigen::Matrix<float, -1, -1, 0, -1, -1>, 0, Eigen::OuterStride<-1>>]\"\u001b[0m \u001b[32m\n",
            "/content/instant-ngp/dependencies/eigen/Eigen/src/LU/PartialPivLU.h(492): here\u001b[0m\n",
            "            instantiation of \u001b[01m\"Eigen::Index Eigen::internal::partial_lu_impl<Scalar, StorageOrder, PivIndex, SizeAtCompileTime>::blocked_lu(Eigen::Index, Eigen::Index, Scalar *, Eigen::Index, PivIndex *, PivIndex &, Eigen::Index) [with Scalar=float, StorageOrder=0, PivIndex=int, SizeAtCompileTime=4]\"\u001b[0m \u001b[32m\n",
            "/content/instant-ngp/dependencies/eigen/Eigen/src/LU/PartialPivLU.h(514): here\u001b[0m\n",
            "            instantiation of \u001b[01m\"void Eigen::internal::partial_lu_inplace(MatrixType &, TranspositionType &, TranspositionType::StorageIndex &) [with MatrixType=Eigen::Matrix<float, 4, 4, 0, 4, 4>, TranspositionType=Eigen::Transpositions<4, 4, int>]\"\u001b[0m \u001b[32m\n",
            "/content/instant-ngp/dependencies/eigen/Eigen/src/LU/PartialPivLU.h(540): here\u001b[0m\n",
            "            [ 22 instantiation contexts not shown ]\n",
            "            instantiation of \u001b[01m\"void Eigen::internal::Assignment<DstXprType, SrcXprType, Functor, Eigen::internal::Dense2Dense, Weak>::run(DstXprType &, const SrcXprType &, const Functor &) [with DstXprType=Eigen::Matrix<float, 3, 4, 0, 3, 4>, SrcXprType=Eigen::Block<const Eigen::Product<Eigen::ReturnByValue<Eigen::MatrixExponentialReturnValue<Eigen::CwiseBinaryOp<Eigen::internal::scalar_product_op<float, float>, const Eigen::Matrix<float, 4, 4, 0, 4, 4>, const Eigen::CwiseNullaryOp<Eigen::internal::scalar_constant_op<float>, const Eigen::Matrix<float, 4, 4, 0, 4, 4>>>>>, Eigen::Matrix<float, 4, 4, 0, 4, 4>, 0>, 3, 4, false>, Functor=Eigen::internal::assign_op<float, float>, Weak=void]\"\u001b[0m \u001b[32m\n",
            "/content/instant-ngp/dependencies/eigen/Eigen/src/Core/AssignEvaluator.h(891): here\u001b[0m\n",
            "            instantiation of \u001b[01m\"void Eigen::internal::call_assignment_no_alias(Dst &, const Src &, const Func &) [with Dst=Eigen::Matrix<float, 3, 4, 0, 3, 4>, Src=Eigen::Block<const Eigen::Product<Eigen::ReturnByValue<Eigen::MatrixExponentialReturnValue<Eigen::CwiseBinaryOp<Eigen::internal::scalar_product_op<float, float>, const Eigen::Matrix<float, 4, 4, 0, 4, 4>, const Eigen::CwiseNullaryOp<Eigen::internal::scalar_constant_op<float>, const Eigen::Matrix<float, 4, 4, 0, 4, 4>>>>>, Eigen::Matrix<float, 4, 4, 0, 4, 4>, 0>, 3, 4, false>, Func=Eigen::internal::assign_op<float, float>]\"\u001b[0m \u001b[32m\n",
            "/content/instant-ngp/dependencies/eigen/Eigen/src/Core/PlainObjectBase.h(800): here\u001b[0m\n",
            "            instantiation of \u001b[01m\"Derived &Eigen::PlainObjectBase<Derived>::_set_noalias(const Eigen::DenseBase<OtherDerived> &) [with Derived=Eigen::Matrix<float, 3, 4, 0, 3, 4>, OtherDerived=Eigen::Block<const Eigen::Product<Eigen::ReturnByValue<Eigen::MatrixExponentialReturnValue<Eigen::CwiseBinaryOp<Eigen::internal::scalar_product_op<float, float>, const Eigen::Matrix<float, 4, 4, 0, 4, 4>, const Eigen::CwiseNullaryOp<Eigen::internal::scalar_constant_op<float>, const Eigen::Matrix<float, 4, 4, 0, 4, 4>>>>>, Eigen::Matrix<float, 4, 4, 0, 4, 4>, 0>, 3, 4, false>]\"\u001b[0m \u001b[32m\n",
            "/content/instant-ngp/dependencies/eigen/Eigen/src/Core/PlainObjectBase.h(599): here\u001b[0m\n",
            "            instantiation of \u001b[01m\"Eigen::PlainObjectBase<Derived>::PlainObjectBase(const Eigen::DenseBase<OtherDerived> &) [with Derived=Eigen::Matrix<float, 3, 4, 0, 3, 4>, OtherDerived=Eigen::Block<const Eigen::Product<Eigen::ReturnByValue<Eigen::MatrixExponentialReturnValue<Eigen::CwiseBinaryOp<Eigen::internal::scalar_product_op<float, float>, const Eigen::Matrix<float, 4, 4, 0, 4, 4>, const Eigen::CwiseNullaryOp<Eigen::internal::scalar_constant_op<float>, const Eigen::Matrix<float, 4, 4, 0, 4, 4>>>>>, Eigen::Matrix<float, 4, 4, 0, 4, 4>, 0>, 3, 4, false>]\"\u001b[0m \u001b[32m\n",
            "/content/instant-ngp/dependencies/eigen/Eigen/src/Core/Matrix.h(418): here\u001b[0m\n",
            "            instantiation of \u001b[01m\"Eigen::Matrix<Scalar_, Rows_, Cols_, Options_, MaxRows_, MaxCols_>::Matrix(const Eigen::EigenBase<OtherDerived> &) [with Scalar_=float, Rows_=3, Cols_=4, Options_=0, MaxRows_=3, MaxCols_=4, OtherDerived=Eigen::Block<const Eigen::Product<Eigen::ReturnByValue<Eigen::MatrixExponentialReturnValue<Eigen::CwiseBinaryOp<Eigen::internal::scalar_product_op<float, float>, const Eigen::Matrix<float, 4, 4, 0, 4, 4>, const Eigen::CwiseNullaryOp<Eigen::internal::scalar_constant_op<float>, const Eigen::Matrix<float, 4, 4, 0, 4, 4>>>>>, Eigen::Matrix<float, 4, 4, 0, 4, 4>, 0>, 3, 4, false>]\"\u001b[0m \u001b[32m\n",
            "/content/instant-ngp/src/common_device.cu(36): here\u001b[0m\n",
            "\n",
            "[ 58%] \u001b[32mBuilding CUDA object CMakeFiles/ngp.dir/src/nerf_loader.cu.o\u001b[0m\n",
            "[ 61%] \u001b[32mBuilding CUDA object CMakeFiles/ngp.dir/src/render_buffer.cu.o\u001b[0m\n",
            "[ 64%] \u001b[32mBuilding CUDA object CMakeFiles/ngp.dir/src/testbed.cu.o\u001b[0m\n",
            "[ 66%] \u001b[32mBuilding CUDA object CMakeFiles/ngp.dir/src/testbed_image.cu.o\u001b[0m\n",
            "[ 69%] \u001b[32mBuilding CUDA object CMakeFiles/ngp.dir/src/testbed_nerf.cu.o\u001b[0m\n",
            "[ 71%] \u001b[32mBuilding CUDA object CMakeFiles/ngp.dir/src/testbed_sdf.cu.o\u001b[0m\n",
            "[ 74%] \u001b[32mBuilding CUDA object CMakeFiles/ngp.dir/src/testbed_volume.cu.o\u001b[0m\n",
            "[ 76%] \u001b[32mBuilding CXX object CMakeFiles/ngp.dir/src/thread_pool.cpp.o\u001b[0m\n",
            "[ 79%] \u001b[32mBuilding CUDA object CMakeFiles/ngp.dir/src/tinyexr_wrapper.cu.o\u001b[0m\n",
            "[ 82%] \u001b[32mBuilding CXX object CMakeFiles/ngp.dir/src/tinyobj_loader_wrapper.cpp.o\u001b[0m\n",
            "[ 84%] \u001b[32mBuilding CUDA object CMakeFiles/ngp.dir/src/triangle_bvh.cu.o\u001b[0m\n",
            "[ 87%] \u001b[32m\u001b[1mLinking CUDA device code CMakeFiles/ngp.dir/cmake_device_link.o\u001b[0m\n",
            "[ 89%] \u001b[32m\u001b[1mLinking CXX static library libngp.a\u001b[0m\n",
            "[ 89%] Built target ngp\n",
            "[ 92%] \u001b[32mBuilding CUDA object CMakeFiles/pyngp.dir/src/python_api.cu.o\u001b[0m\n",
            "[ 94%] \u001b[32mBuilding CUDA object CMakeFiles/instant-ngp.dir/src/main.cu.o\u001b[0m\n",
            "[ 97%] \u001b[32m\u001b[1mLinking CXX executable instant-ngp\u001b[0m\n",
            "[ 97%] Built target instant-ngp\n",
            "[100%] \u001b[32m\u001b[1mLinking CXX shared library pyngp.cpython-38-x86_64-linux-gnu.so\u001b[0m\n",
            "[100%] Built target pyngp\n"
          ]
        }
      ],
      "source": [
        "!cmake --build build --config RelWithDebInfo -j `nproc`"
      ]
    },
    {
      "cell_type": "code",
      "execution_count": null,
      "metadata": {
        "colab": {
          "base_uri": "https://localhost:8080/"
        },
        "id": "TRfrshaCdpY8",
        "outputId": "54541a89-dd2b-4f6a-cf01-cde9d7a1b963"
      },
      "outputs": [
        {
          "output_type": "stream",
          "name": "stdout",
          "text": [
            "Looking in indexes: https://pypi.org/simple, https://us-python.pkg.dev/colab-wheels/public/simple/\n",
            "Collecting commentjson\n",
            "  Downloading commentjson-0.9.0.tar.gz (8.7 kB)\n",
            "  Preparing metadata (setup.py) ... \u001b[?25l\u001b[?25hdone\n",
            "Requirement already satisfied: imageio in /usr/local/lib/python3.8/dist-packages (from -r requirements.txt (line 2)) (2.9.0)\n",
            "Requirement already satisfied: numpy in /usr/local/lib/python3.8/dist-packages (from -r requirements.txt (line 3)) (1.21.6)\n",
            "Requirement already satisfied: opencv-python-headless in /usr/local/lib/python3.8/dist-packages (from -r requirements.txt (line 4)) (4.7.0.68)\n",
            "Collecting pybind11\n",
            "  Downloading pybind11-2.10.3-py3-none-any.whl (222 kB)\n",
            "\u001b[2K     \u001b[90m━━━━━━━━━━━━━━━━━━━━━━━━━━━━━━━━━━━━━━━\u001b[0m \u001b[32m222.4/222.4 KB\u001b[0m \u001b[31m7.7 MB/s\u001b[0m eta \u001b[36m0:00:00\u001b[0m\n",
            "\u001b[?25hCollecting pyquaternion\n",
            "  Downloading pyquaternion-0.9.9-py3-none-any.whl (14 kB)\n",
            "Requirement already satisfied: scipy in /usr/local/lib/python3.8/dist-packages (from -r requirements.txt (line 7)) (1.7.3)\n",
            "Requirement already satisfied: tqdm in /usr/local/lib/python3.8/dist-packages (from -r requirements.txt (line 8)) (4.64.1)\n",
            "Collecting lark-parser<0.8.0,>=0.7.1\n",
            "  Downloading lark-parser-0.7.8.tar.gz (276 kB)\n",
            "\u001b[2K     \u001b[90m━━━━━━━━━━━━━━━━━━━━━━━━━━━━━━━━━━━━━━\u001b[0m \u001b[32m276.2/276.2 KB\u001b[0m \u001b[31m21.8 MB/s\u001b[0m eta \u001b[36m0:00:00\u001b[0m\n",
            "\u001b[?25h  Preparing metadata (setup.py) ... \u001b[?25l\u001b[?25hdone\n",
            "Requirement already satisfied: pillow in /usr/local/lib/python3.8/dist-packages (from imageio->-r requirements.txt (line 2)) (7.1.2)\n",
            "Building wheels for collected packages: commentjson, lark-parser\n",
            "  Building wheel for commentjson (setup.py) ... \u001b[?25l\u001b[?25hdone\n",
            "  Created wheel for commentjson: filename=commentjson-0.9.0-py3-none-any.whl size=12092 sha256=a7e5fcf094e5a0bc6d7d47bf0c552e759d10d7f3eb5a19bf33c49e387c9b8255\n",
            "  Stored in directory: /root/.cache/pip/wheels/2c/1c/b5/6f1b1411615716f6d2b52b9301bfaf032ed5f68d4c7d547be8\n",
            "  Building wheel for lark-parser (setup.py) ... \u001b[?25l\u001b[?25hdone\n",
            "  Created wheel for lark-parser: filename=lark_parser-0.7.8-py2.py3-none-any.whl size=62526 sha256=93644f7b03f147d11adfe5d90df3637dddd8282df6fb09c8019b3529f527ffa0\n",
            "  Stored in directory: /root/.cache/pip/wheels/11/b5/2b/b6896f25d9b272b4f72db3a45a15cb0b7a6e43d7980c936a15\n",
            "Successfully built commentjson lark-parser\n",
            "Installing collected packages: lark-parser, pyquaternion, pybind11, commentjson\n",
            "Successfully installed commentjson-0.9.0 lark-parser-0.7.8 pybind11-2.10.3 pyquaternion-0.9.9\n"
          ]
        }
      ],
      "source": [
        "!pip3 install -r requirements.txt"
      ]
    },
    {
      "cell_type": "markdown",
      "metadata": {
        "id": "cHLYSiD05EnL"
      },
      "source": [
        "## 6. [LOCAL MACHINE] Run COLMAP on your scene\n",
        "COLMAP doesn't work on machines without a GUI.\n",
        "\n",
        "Go to your local machine and follow the [instructions](https://github.com/NVlabs/instant-ngp/blob/master/docs/nerf_dataset_tips.md#preparing-new-nerf-datasets) to run COLMAP from a video or a set of images to generate camera positions from your scene.\n",
        "\n",
        "After this, you should have an images folder, with the images of your scene, and a `transforms.json` file with the camera information extracted by COLMAP."
      ]
    },
    {
      "cell_type": "markdown",
      "metadata": {
        "id": "ZQP4PAyru3KA"
      },
      "source": [
        "## 7. Upload your scene"
      ]
    },
    {
      "cell_type": "markdown",
      "metadata": {
        "id": "h3Tl_nNpzfPR"
      },
      "source": [
        "Mount your google drive"
      ]
    },
    {
      "cell_type": "code",
      "execution_count": null,
      "metadata": {
        "id": "a-CfnpVUze1G",
        "colab": {
          "base_uri": "https://localhost:8080/"
        },
        "outputId": "a25b07f4-f46b-464e-9d91-157e70896eca"
      },
      "outputs": [
        {
          "output_type": "stream",
          "name": "stdout",
          "text": [
            "Mounted at /content/drive\n"
          ]
        }
      ],
      "source": [
        "from google.colab import drive\n",
        "drive.mount('/content/drive')"
      ]
    },
    {
      "cell_type": "markdown",
      "metadata": {
        "id": "WOx86Jz5xOQP"
      },
      "source": [
        "Then upload the `images` folder and the output of COLMAP, `transforms.json`, to your drive. The structure should be similar to the following:\n",
        "```\n",
        "/content/drive/MyDrive/nerf_scenes/\n",
        "└── fox\n",
        "    ├── images\n",
        "    │   ├── 00001.jpg\n",
        "    │   └── 00002.jpg\n",
        "    └── transforms.json\n",
        "```\n",
        "\n"
      ]
    },
    {
      "cell_type": "markdown",
      "metadata": {
        "id": "iNhWLCgH20-g"
      },
      "source": [
        "Enter the path to your scene"
      ]
    },
    {
      "cell_type": "code",
      "execution_count": null,
      "metadata": {
        "id": "ayZ2gWkTz3sU"
      },
      "outputs": [],
      "source": [
        "import os\n",
        "scene_path = \"/content/drive/MyDrive/fox\" #@param {type:\"string\"}\n",
        "if not os.path.isdir(scene_path):\n",
        "  raise NotADirectoryError(scene_path)"
      ]
    },
    {
      "cell_type": "markdown",
      "metadata": {
        "id": "YPr9nJ-w2_0J"
      },
      "source": [
        "## 8. Train a model on your scene!"
      ]
    },
    {
      "cell_type": "code",
      "execution_count": null,
      "metadata": {
        "colab": {
          "base_uri": "https://localhost:8080/",
          "height": 200
        },
        "id": "aijHZB0zJwWB",
        "outputId": "94e243a7-e1ca-4215-b8c0-bba40c2db7e1"
      },
      "outputs": [
        {
          "output_type": "error",
          "ename": "NameError",
          "evalue": "ignored",
          "traceback": [
            "\u001b[0;31m---------------------------------------------------------------------------\u001b[0m",
            "\u001b[0;31mNameError\u001b[0m                                 Traceback (most recent call last)",
            "\u001b[0;32m<ipython-input-1-2ff8c4f6411c>\u001b[0m in \u001b[0;36m<module>\u001b[0;34m\u001b[0m\n\u001b[1;32m      1\u001b[0m \u001b[0mtrain_steps\u001b[0m \u001b[0;34m=\u001b[0m \u001b[0;36m200000\u001b[0m  \u001b[0;31m#@param {type:\"integer\"}\u001b[0m\u001b[0;34m\u001b[0m\u001b[0;34m\u001b[0m\u001b[0m\n\u001b[0;32m----> 2\u001b[0;31m \u001b[0msnapshot_path\u001b[0m \u001b[0;34m=\u001b[0m \u001b[0mos\u001b[0m\u001b[0;34m.\u001b[0m\u001b[0mpath\u001b[0m\u001b[0;34m.\u001b[0m\u001b[0mjoin\u001b[0m\u001b[0;34m(\u001b[0m\u001b[0mscene_path\u001b[0m\u001b[0;34m,\u001b[0m \u001b[0;34mf\"{train_steps}.ingp\"\u001b[0m\u001b[0;34m)\u001b[0m\u001b[0;34m\u001b[0m\u001b[0;34m\u001b[0m\u001b[0m\n\u001b[0m\u001b[1;32m      3\u001b[0m \u001b[0mget_ipython\u001b[0m\u001b[0;34m(\u001b[0m\u001b[0;34m)\u001b[0m\u001b[0;34m.\u001b[0m\u001b[0msystem\u001b[0m\u001b[0;34m(\u001b[0m\u001b[0;34m'python ./scripts/run.py {scene_path} --n_steps {train_steps} --save_snapshot {snapshot_path}'\u001b[0m\u001b[0;34m)\u001b[0m\u001b[0;34m\u001b[0m\u001b[0;34m\u001b[0m\u001b[0m\n",
            "\u001b[0;31mNameError\u001b[0m: name 'os' is not defined"
          ]
        }
      ],
      "source": [
        "train_steps = 200000  #@param {type:\"integer\"}\n",
        "snapshot_path = os.path.join(scene_path, f\"{train_steps}.ingp\")\n",
        "!python ./scripts/run.py {scene_path} --n_steps {train_steps} --save_snapshot {snapshot_path}"
      ]
    },
    {
      "cell_type": "markdown",
      "metadata": {
        "id": "RWuAHgOw8M4s"
      },
      "source": [
        "## 9. [LOCAL MACHINE] Generate a camera path\n",
        "\n",
        "Congrats! You now have a trained nerf checkpoint. Now, in order to generate a video with it, you will need to open it in your local machine with `testbed` and generate a `base_cam.jon` file following these [instructions](https://github.com/NVlabs/instant-ngp#testbed-controls). Remember to launch with the `--no-train` argument so that it doesn't start to train on your PC. Setting up the cameras can make your GUI pretty laggy, you can try to play with the `--height` and `--width` parameters or cropping your scene with the `Crop aabb` options to optimize the performance.\n",
        "\n",
        "Example command:\n",
        "```\n",
        "./build/instant-ngp /data/nerf/fox/2000.ingp\n",
        "```\n",
        "\n",
        "After you're done, **upload `base_cam.json` to the root folder of your scene.**"
      ]
    },
    {
      "cell_type": "markdown",
      "metadata": {
        "id": "L5XVO_oi-riY"
      },
      "source": [
        "## 10. Render video"
      ]
    },
    {
      "cell_type": "markdown",
      "metadata": {
        "id": "x_2t4NHHAvn5"
      },
      "source": [
        "Make sure `base_cam.json` exists:"
      ]
    },
    {
      "cell_type": "code",
      "execution_count": null,
      "metadata": {
        "id": "04Yt6prm_FJI"
      },
      "outputs": [],
      "source": [
        "video_camera_path = os.path.join(scene_path, \"base_cam.json\")\n",
        "if not os.path.isfile(video_camera_path):\n",
        "  raise FileNotFoundError(video_camera_path)"
      ]
    },
    {
      "cell_type": "markdown",
      "metadata": {
        "id": "xdFuUotyA0HV"
      },
      "source": [
        "Render the video"
      ]
    },
    {
      "cell_type": "code",
      "execution_count": null,
      "metadata": {
        "colab": {
          "base_uri": "https://localhost:8080/"
        },
        "id": "d3XJeTeF1yJE",
        "outputId": "e493bdd8-903e-4c8e-ab01-8c8baed8b5dc"
      },
      "outputs": [
        {
          "name": "stdout",
          "output_type": "stream",
          "text": [
            "\u001b[0m22:32:31 \u001b[0;36mINFO     \u001b[0mLoading NeRF dataset from\u001b[K\u001b[0m\n",
            "22:32:31 \u001b[0;36mINFO     \u001b[0m  /content/drive/MyDrive/nerf_scenes/fox/transforms.json\u001b[K\u001b[0m\n",
            "22:32:31 \u001b[1;33mWARNING  \u001b[0m  /content/drive/MyDrive/nerf_scenes/fox/base_cam.json does not contain any frames. Skipping.\u001b[K\u001b[0m\n",
            "22:32:31 \u001b[0;34mPROGRESS \u001b[0m[]   0% ( 0/50)  0s/inf\u001b[K\u001b[0m\u001b[0G22:32:31 \u001b[0;34mPROGRESS \u001b[0m[]   2% ( 1/50) 0s/1s\u001b[K\u001b[0m\u001b[0G22:32:31 \u001b[0;34mPROGRESS \u001b[0m[]   4% ( 2/50) 0s/0s\u001b[K\u001b[0m\u001b[0G22:32:31 \u001b[0;34mPROGRESS \u001b[0m[]   6% ( 3/50) 0s/0s\u001b[K\u001b[0m\u001b[0G22:32:31 \u001b[0;34mPROGRESS \u001b[0m[]   8% ( 4/50) 0s/0s\u001b[K\u001b[0m\u001b[0G22:32:31 \u001b[0;34mPROGRESS \u001b[0m[]  10% ( 5/50) 0s/0s\u001b[K\u001b[0m\u001b[0G22:32:31 \u001b[0;34mPROGRESS \u001b[0m[]  12% ( 6/50) 0s/0s\u001b[K\u001b[0m\u001b[0G22:32:31 \u001b[0;34mPROGRESS \u001b[0m[]  14% ( 7/50) 0s/0s\u001b[K\u001b[0m\u001b[0G22:32:31 \u001b[0;34mPROGRESS \u001b[0m[]  16% ( 8/50) 0s/0s\u001b[K\u001b[0m\u001b[0G22:32:31 \u001b[0;34mPROGRESS \u001b[0m[]  18% ( 9/50) 0s/0s\u001b[K\u001b[0m\u001b[0G22:32:31 \u001b[0;34mPROGRESS \u001b[0m[]  20% (10/50) 0s/0s\u001b[K\u001b[0m\u001b[0G22:32:31 \u001b[0;34mPROGRESS \u001b[0m[]  22% (11/50) 0s/0s\u001b[K\u001b[0m\u001b[0G22:32:31 \u001b[0;34mPROGRESS \u001b[0m[]  24% (12/50) 0s/0s\u001b[K\u001b[0m\u001b[0G22:32:31 \u001b[0;34mPROGRESS \u001b[0m[]  26% (13/50) 0s/0s\u001b[K\u001b[0m\u001b[0G22:32:31 \u001b[0;34mPROGRESS \u001b[0m[]  28% (14/50) 0s/0s\u001b[K\u001b[0m\u001b[0G22:32:31 \u001b[0;34mPROGRESS \u001b[0m[]  30% (15/50) 0s/0s\u001b[K\u001b[0m\u001b[0G22:32:31 \u001b[0;34mPROGRESS \u001b[0m[]  32% (16/50) 0s/0s\u001b[K\u001b[0m\u001b[0G22:32:31 \u001b[0;34mPROGRESS \u001b[0m[]  34% (17/50) 0s/0s\u001b[K\u001b[0m\u001b[0G22:32:31 \u001b[0;34mPROGRESS \u001b[0m[]  36% (18/50) 0s/0s\u001b[K\u001b[0m\u001b[0G22:32:31 \u001b[0;34mPROGRESS \u001b[0m[]  38% (19/50) 0s/0s\u001b[K\u001b[0m\u001b[0G22:32:31 \u001b[0;34mPROGRESS \u001b[0m[]  40% (20/50) 0s/0s\u001b[K\u001b[0m\u001b[0G22:32:31 \u001b[0;34mPROGRESS \u001b[0m[]  42% (21/50) 0s/0s\u001b[K\u001b[0m\u001b[0G22:32:31 \u001b[0;34mPROGRESS \u001b[0m[]  44% (22/50) 0s/0s\u001b[K\u001b[0m\u001b[0G22:32:31 \u001b[0;34mPROGRESS \u001b[0m[]  46% (23/50) 0s/0s\u001b[K\u001b[0m\u001b[0G22:32:31 \u001b[0;34mPROGRESS \u001b[0m[]  48% (24/50) 0s/0s\u001b[K\u001b[0m\u001b[0G22:32:31 \u001b[0;34mPROGRESS \u001b[0m[]  50% (25/50) 0s/0s\u001b[K\u001b[0m\u001b[0G22:32:31 \u001b[0;34mPROGRESS \u001b[0m[]  52% (26/50) 0s/0s\u001b[K\u001b[0m\u001b[0G22:32:31 \u001b[0;34mPROGRESS \u001b[0m[]  54% (27/50) 0s/0s\u001b[K\u001b[0m\u001b[0G22:32:31 \u001b[0;34mPROGRESS \u001b[0m[]  56% (28/50) 0s/0s\u001b[K\u001b[0m\u001b[0G22:32:31 \u001b[0;34mPROGRESS \u001b[0m[]  58% (29/50) 0s/0s\u001b[K\u001b[0m\u001b[0G22:32:31 \u001b[0;34mPROGRESS \u001b[0m[]  60% (30/50) 0s/0s\u001b[K\u001b[0m\u001b[0G22:32:31 \u001b[0;34mPROGRESS \u001b[0m[]  62% (31/50) 0s/0s\u001b[K\u001b[0m\u001b[0G22:32:31 \u001b[0;34mPROGRESS \u001b[0m[]  64% (32/50) 0s/0s\u001b[K\u001b[0m\u001b[0G22:32:31 \u001b[0;34mPROGRESS \u001b[0m[]  66% (33/50) 0s/0s\u001b[K\u001b[0m\u001b[0G22:32:31 \u001b[0;34mPROGRESS \u001b[0m[]  68% (34/50) 0s/0s\u001b[K\u001b[0m\u001b[0G22:32:31 \u001b[0;34mPROGRESS \u001b[0m[]  70% (35/50) 0s/0s\u001b[K\u001b[0m\u001b[0G22:32:31 \u001b[0;34mPROGRESS \u001b[0m[]  72% (36/50) 0s/0s\u001b[K\u001b[0m\u001b[0G22:32:31 \u001b[0;34mPROGRESS \u001b[0m[]  74% (37/50) 0s/0s\u001b[K\u001b[0m\u001b[0G22:32:31 \u001b[0;34mPROGRESS \u001b[0m[]  76% (38/50) 0s/0s\u001b[K\u001b[0m\u001b[0G22:32:31 \u001b[0;34mPROGRESS \u001b[0m[]  78% (39/50) 0s/0s\u001b[K\u001b[0m\u001b[0G22:32:31 \u001b[0;34mPROGRESS \u001b[0m[]  80% (40/50) 0s/0s\u001b[K\u001b[0m\u001b[0G22:32:31 \u001b[0;34mPROGRESS \u001b[0m[]  82% (41/50) 0s/0s\u001b[K\u001b[0m\u001b[0G22:32:31 \u001b[0;34mPROGRESS \u001b[0m[]  84% (42/50) 0s/0s\u001b[K\u001b[0m\u001b[0G22:32:31 \u001b[0;34mPROGRESS \u001b[0m[]  86% (43/50) 0s/0s\u001b[K\u001b[0m\u001b[0G22:32:31 \u001b[0;34mPROGRESS \u001b[0m[]  88% (44/50) 0s/0s\u001b[K\u001b[0m\u001b[0G22:32:31 \u001b[0;34mPROGRESS \u001b[0m[]  90% (45/50) 0s/0s\u001b[K\u001b[0m\u001b[0G22:32:31 \u001b[0;34mPROGRESS \u001b[0m[]  92% (46/50) 0s/0s\u001b[K\u001b[0m\u001b[0G22:32:31 \u001b[0;34mPROGRESS \u001b[0m[]  94% (47/50) 0s/0s\u001b[K\u001b[0m\u001b[0G22:32:31 \u001b[0;34mPROGRESS \u001b[0m[]  96% (48/50) 0s/0s\u001b[K\u001b[0m\u001b[0G22:32:32 \u001b[0;34mPROGRESS \u001b[0m[]  98% (49/50) 0s/0s\u001b[K\u001b[0m\u001b[0G22:32:32 \u001b[0;34mPROGRESS \u001b[0m[] 100% (50/50) 0s/0s\u001b[K\u001b[0m\u001b[0G22:32:32 \u001b[0;32mSUCCESS  \u001b[0mLoaded 50 images after 0s\u001b[K\u001b[0m\n",
            "22:32:32 \u001b[0;36mINFO     \u001b[0m  cam_aabb=[min=[1.0229,-1.33309,-0.378748], max=[2.46175,1.00721,1.41295]]\u001b[K\u001b[0m\n",
            "Loading snapshot  /content/drive/MyDrive/nerf_scenes/fox/2000.msgpack\n",
            "22:32:32 \u001b[0;36mINFO     \u001b[0mLoading network config from: /content/drive/MyDrive/nerf_scenes/fox/2000.msgpack\u001b[K\u001b[0m\n",
            "22:32:33 \u001b[0;36mINFO     \u001b[0mGridEncoding:  Nmin=16 b=1.51572 F=2 T=2^19 L=16\u001b[K\u001b[0m\n",
            "22:32:33 \u001b[0;36mINFO     \u001b[0mDensity model: 3--[HashGrid]-->32--[CutlassMLP(neurons=64,layers=3)]-->1\u001b[K\u001b[0m\n",
            "22:32:33 \u001b[0;36mINFO     \u001b[0mColor model:   3--[Composite]-->16+16--[CutlassMLP(neurons=64,layers=4)]-->3\u001b[K\u001b[0m\n",
            "22:32:33 \u001b[0;36mINFO     \u001b[0m  total_encoding_params=13074912 total_network_params=9728\u001b[K\u001b[0m\n",
            "Rendering video: 100% 50/50 [06:45<00:00,  8.11s/frames]\n",
            "ffmpeg version 3.4.11-0ubuntu0.1 Copyright (c) 2000-2022 the FFmpeg developers\n",
            "  built with gcc 7 (Ubuntu 7.5.0-3ubuntu1~18.04)\n",
            "  configuration: --prefix=/usr --extra-version=0ubuntu0.1 --toolchain=hardened --libdir=/usr/lib/x86_64-linux-gnu --incdir=/usr/include/x86_64-linux-gnu --enable-gpl --disable-stripping --enable-avresample --enable-avisynth --enable-gnutls --enable-ladspa --enable-libass --enable-libbluray --enable-libbs2b --enable-libcaca --enable-libcdio --enable-libflite --enable-libfontconfig --enable-libfreetype --enable-libfribidi --enable-libgme --enable-libgsm --enable-libmp3lame --enable-libmysofa --enable-libopenjpeg --enable-libopenmpt --enable-libopus --enable-libpulse --enable-librubberband --enable-librsvg --enable-libshine --enable-libsnappy --enable-libsoxr --enable-libspeex --enable-libssh --enable-libtheora --enable-libtwolame --enable-libvorbis --enable-libvpx --enable-libwavpack --enable-libwebp --enable-libx265 --enable-libxml2 --enable-libxvid --enable-libzmq --enable-libzvbi --enable-omx --enable-openal --enable-opengl --enable-sdl2 --enable-libdc1394 --enable-libdrm --enable-libiec61883 --enable-chromaprint --enable-frei0r --enable-libopencv --enable-libx264 --enable-shared\n",
            "  libavutil      55. 78.100 / 55. 78.100\n",
            "  libavcodec     57.107.100 / 57.107.100\n",
            "  libavformat    57. 83.100 / 57. 83.100\n",
            "  libavdevice    57. 10.100 / 57. 10.100\n",
            "  libavfilter     6.107.100 /  6.107.100\n",
            "  libavresample   3.  7.  0 /  3.  7.  0\n",
            "  libswscale      4.  8.100 /  4.  8.100\n",
            "  libswresample   2.  9.100 /  2.  9.100\n",
            "  libpostproc    54.  7.100 / 54.  7.100\n",
            "Input #0, image2, from 'tmp/%04d.jpg':\n",
            "  Duration: 00:00:02.00, start: 0.000000, bitrate: N/A\n",
            "    Stream #0:0: Video: mjpeg, yuvj444p(pc, bt470bg/unknown/unknown), 720x720 [SAR 1:1 DAR 1:1], 25 fps, 25 tbr, 25 tbn, 25 tbc\n",
            "Stream mapping:\n",
            "  Stream #0:0 -> #0:0 (mjpeg (native) -> h264 (libx264))\n",
            "Press [q] to stop, [?] for help\n",
            "\u001b[1;34m[swscaler @ 0x56187f4ae000] \u001b[0m\u001b[0;33mdeprecated pixel format used, make sure you did set range correctly\n",
            "\u001b[0m\u001b[1;36m[libx264 @ 0x56187ed35e00] \u001b[0musing SAR=1/1\n",
            "\u001b[1;36m[libx264 @ 0x56187ed35e00] \u001b[0musing cpu capabilities: MMX2 SSE2Fast SSSE3 SSE4.2 AVX FMA3 BMI2 AVX2\n",
            "\u001b[1;36m[libx264 @ 0x56187ed35e00] \u001b[0mprofile High, level 3.1\n",
            "\u001b[1;36m[libx264 @ 0x56187ed35e00] \u001b[0m264 - core 152 r2854 e9a5903 - H.264/MPEG-4 AVC codec - Copyleft 2003-2017 - http://www.videolan.org/x264.html - options: cabac=1 ref=3 deblock=1:0:0 analyse=0x3:0x113 me=hex subme=7 psy=1 psy_rd=1.00:0.00 mixed_ref=1 me_range=16 chroma_me=1 trellis=1 8x8dct=1 cqm=0 deadzone=21,11 fast_pskip=1 chroma_qp_offset=-2 threads=3 lookahead_threads=1 sliced_threads=0 nr=0 decimate=1 interlaced=0 bluray_compat=0 constrained_intra=0 bframes=3 b_pyramid=2 b_adapt=1 b_bias=0 direct=1 weightb=1 open_gop=0 weightp=2 keyint=250 keyint_min=25 scenecut=40 intra_refresh=0 rc_lookahead=40 rc=crf mbtree=1 crf=23.0 qcomp=0.60 qpmin=0 qpmax=69 qpstep=4 ip_ratio=1.40 aq=1:1.00\n",
            "Output #0, mp4, to '/content/drive/MyDrive/nerf_scenes/fox/output_video.mp4':\n",
            "  Metadata:\n",
            "    encoder         : Lavf57.83.100\n",
            "    Stream #0:0: Video: h264 (libx264) (avc1 / 0x31637661), yuv420p, 720x720 [SAR 1:1 DAR 1:1], q=-1--1, 25 fps, 12800 tbn, 25 tbc\n",
            "    Metadata:\n",
            "      encoder         : Lavc57.107.100 libx264\n",
            "    Side data:\n",
            "      cpb: bitrate max/min/avg: 0/0/0 buffer size: 0 vbv_delay: -1\n",
            "frame=   50 fps= 27 q=-1.0 Lsize=     256kB time=00:00:01.88 bitrate=1116.2kbits/s speed=   1x    \n",
            "video:255kB audio:0kB subtitle:0kB other streams:0kB global headers:0kB muxing overhead: 0.550445%\n",
            "\u001b[1;36m[libx264 @ 0x56187ed35e00] \u001b[0mframe I:2     Avg QP:24.03  size: 18560\n",
            "\u001b[1;36m[libx264 @ 0x56187ed35e00] \u001b[0mframe P:13    Avg QP:23.89  size: 11026\n",
            "\u001b[1;36m[libx264 @ 0x56187ed35e00] \u001b[0mframe B:35    Avg QP:26.40  size:  2278\n",
            "\u001b[1;36m[libx264 @ 0x56187ed35e00] \u001b[0mconsecutive B-frames:  6.0%  0.0%  6.0% 88.0%\n",
            "\u001b[1;36m[libx264 @ 0x56187ed35e00] \u001b[0mmb I  I16..4: 12.0% 81.5%  6.5%\n",
            "\u001b[1;36m[libx264 @ 0x56187ed35e00] \u001b[0mmb P  I16..4:  0.7%  7.2%  0.5%  P16..4: 53.7% 21.4%  6.9%  0.0%  0.0%    skip: 9.7%\n",
            "\u001b[1;36m[libx264 @ 0x56187ed35e00] \u001b[0mmb B  I16..4:  0.0%  0.2%  0.0%  B16..8: 44.9%  3.0%  0.4%  direct: 0.9%  skip:50.6%  L0:29.0% L1:66.9% BI: 4.1%\n",
            "\u001b[1;36m[libx264 @ 0x56187ed35e00] \u001b[0m8x8 transform intra:83.0% inter:86.7%\n",
            "\u001b[1;36m[libx264 @ 0x56187ed35e00] \u001b[0mcoded y,uvDC,uvAC intra: 68.5% 71.2% 20.3% inter: 16.5% 12.8% 0.1%\n",
            "\u001b[1;36m[libx264 @ 0x56187ed35e00] \u001b[0mi16 v,h,dc,p: 12%  9%  3% 76%\n",
            "\u001b[1;36m[libx264 @ 0x56187ed35e00] \u001b[0mi8 v,h,dc,ddl,ddr,vr,hd,vl,hu: 21% 14% 13%  7%  9% 10%  8%  9%  9%\n",
            "\u001b[1;36m[libx264 @ 0x56187ed35e00] \u001b[0mi4 v,h,dc,ddl,ddr,vr,hd,vl,hu: 23% 14% 11%  9% 10% 12%  8%  8%  5%\n",
            "\u001b[1;36m[libx264 @ 0x56187ed35e00] \u001b[0mi8c dc,h,v,p: 50% 17% 23% 10%\n",
            "\u001b[1;36m[libx264 @ 0x56187ed35e00] \u001b[0mWeighted P-Frames: Y:23.1% UV:0.0%\n",
            "\u001b[1;36m[libx264 @ 0x56187ed35e00] \u001b[0mref P L0: 44.2% 46.1%  7.7%  1.6%  0.3%\n",
            "\u001b[1;36m[libx264 @ 0x56187ed35e00] \u001b[0mref B L0: 98.2%  1.4%  0.4%\n",
            "\u001b[1;36m[libx264 @ 0x56187ed35e00] \u001b[0mref B L1: 99.6%  0.4%\n",
            "\u001b[1;36m[libx264 @ 0x56187ed35e00] \u001b[0mkb/s:1040.76\n",
            "\u001b[0mGenerated video saved to:\n",
            "/content/drive/MyDrive/nerf_scenes/fox/output_video.mp4\n"
          ]
        }
      ],
      "source": [
        "video_n_seconds = 5 #@param {type:\"integer\"}\n",
        "video_fps = 25 #@param {type:\"integer\"}\n",
        "width = 720 #@param {type:\"integer\"}\n",
        "height = 720 #@param {type:\"integer\"}\n",
        "output_video_path = os.path.join(scene_path, \"output_video.mp4\")\n",
        "\n",
        "!python scripts/run.py {snapshot_path} --video_camera_path {video_camera_path} --video_n_seconds 2 --video_fps 25 --width 720 --height 720 --video_output {output_video_path}\n",
        "print(f\"Generated video saved to:\\n{output_video_path}\")"
      ]
    }
  ],
  "metadata": {
    "accelerator": "GPU",
    "colab": {
      "provenance": []
    },
    "kernelspec": {
      "display_name": "Python 3",
      "language": "python",
      "name": "python3"
    },
    "language_info": {
      "name": "python",
      "version": "3.9.7 (tags/v3.9.7:1016ef3, Aug 30 2021, 20:19:38) [MSC v.1929 64 bit (AMD64)]"
    },
    "vscode": {
      "interpreter": {
        "hash": "76392a4a51364e66be8d9e8c24551b51109eb4003b2256c2b9df7166893b45c1"
      }
    }
  },
  "nbformat": 4,
  "nbformat_minor": 0
}